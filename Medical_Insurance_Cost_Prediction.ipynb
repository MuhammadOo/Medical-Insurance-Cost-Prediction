{
  "nbformat": 4,
  "nbformat_minor": 0,
  "metadata": {
    "colab": {
      "name": "Medical Insurance Cost Prediction.ipynb",
      "provenance": []
    },
    "kernelspec": {
      "name": "python3",
      "display_name": "Python 3"
    },
    "language_info": {
      "name": "python"
    }
  },
  "cells": [
    {
      "cell_type": "markdown",
      "source": [
        "#Medical Insurance Cost Prediction"
      ],
      "metadata": {
        "id": "NUGRy6o4pqTk"
      }
    },
    {
      "cell_type": "markdown",
      "source": [
        "## Importing required libraries"
      ],
      "metadata": {
        "id": "ewsyf4pqqeDv"
      }
    },
    {
      "cell_type": "code",
      "execution_count": null,
      "metadata": {
        "colab": {
          "base_uri": "https://localhost:8080/"
        },
        "id": "80TC8JrX3ElJ",
        "outputId": "65d73e35-ce29-4ed3-80c1-afc2aac24cf9"
      },
      "outputs": [
        {
          "output_type": "stream",
          "name": "stdout",
          "text": [
            "Looking in indexes: https://pypi.org/simple, https://us-python.pkg.dev/colab-wheels/public/simple/\n",
            "Requirement already satisfied: tensorflow in /usr/local/lib/python3.7/dist-packages (2.8.2+zzzcolab20220719082949)\n",
            "Requirement already satisfied: absl-py>=0.4.0 in /usr/local/lib/python3.7/dist-packages (from tensorflow) (1.2.0)\n",
            "Requirement already satisfied: opt-einsum>=2.3.2 in /usr/local/lib/python3.7/dist-packages (from tensorflow) (3.3.0)\n",
            "Requirement already satisfied: wrapt>=1.11.0 in /usr/local/lib/python3.7/dist-packages (from tensorflow) (1.14.1)\n",
            "Requirement already satisfied: grpcio<2.0,>=1.24.3 in /usr/local/lib/python3.7/dist-packages (from tensorflow) (1.47.0)\n",
            "Requirement already satisfied: astunparse>=1.6.0 in /usr/local/lib/python3.7/dist-packages (from tensorflow) (1.6.3)\n",
            "Requirement already satisfied: tensorflow-io-gcs-filesystem>=0.23.1 in /usr/local/lib/python3.7/dist-packages (from tensorflow) (0.26.0)\n",
            "Requirement already satisfied: libclang>=9.0.1 in /usr/local/lib/python3.7/dist-packages (from tensorflow) (14.0.6)\n",
            "Requirement already satisfied: h5py>=2.9.0 in /usr/local/lib/python3.7/dist-packages (from tensorflow) (3.1.0)\n",
            "Requirement already satisfied: setuptools in /usr/local/lib/python3.7/dist-packages (from tensorflow) (57.4.0)\n",
            "Requirement already satisfied: termcolor>=1.1.0 in /usr/local/lib/python3.7/dist-packages (from tensorflow) (1.1.0)\n",
            "Requirement already satisfied: typing-extensions>=3.6.6 in /usr/local/lib/python3.7/dist-packages (from tensorflow) (4.1.1)\n",
            "Requirement already satisfied: protobuf<3.20,>=3.9.2 in /usr/local/lib/python3.7/dist-packages (from tensorflow) (3.17.3)\n",
            "Requirement already satisfied: keras<2.9,>=2.8.0rc0 in /usr/local/lib/python3.7/dist-packages (from tensorflow) (2.8.0)\n",
            "Requirement already satisfied: keras-preprocessing>=1.1.1 in /usr/local/lib/python3.7/dist-packages (from tensorflow) (1.1.2)\n",
            "Requirement already satisfied: google-pasta>=0.1.1 in /usr/local/lib/python3.7/dist-packages (from tensorflow) (0.2.0)\n",
            "Requirement already satisfied: tensorboard<2.9,>=2.8 in /usr/local/lib/python3.7/dist-packages (from tensorflow) (2.8.0)\n",
            "Requirement already satisfied: six>=1.12.0 in /usr/local/lib/python3.7/dist-packages (from tensorflow) (1.15.0)\n",
            "Requirement already satisfied: numpy>=1.20 in /usr/local/lib/python3.7/dist-packages (from tensorflow) (1.21.6)\n",
            "Requirement already satisfied: gast>=0.2.1 in /usr/local/lib/python3.7/dist-packages (from tensorflow) (0.5.3)\n",
            "Requirement already satisfied: tensorflow-estimator<2.9,>=2.8 in /usr/local/lib/python3.7/dist-packages (from tensorflow) (2.8.0)\n",
            "Requirement already satisfied: flatbuffers>=1.12 in /usr/local/lib/python3.7/dist-packages (from tensorflow) (2.0)\n",
            "Requirement already satisfied: wheel<1.0,>=0.23.0 in /usr/local/lib/python3.7/dist-packages (from astunparse>=1.6.0->tensorflow) (0.37.1)\n",
            "Requirement already satisfied: cached-property in /usr/local/lib/python3.7/dist-packages (from h5py>=2.9.0->tensorflow) (1.5.2)\n",
            "Requirement already satisfied: tensorboard-data-server<0.7.0,>=0.6.0 in /usr/local/lib/python3.7/dist-packages (from tensorboard<2.9,>=2.8->tensorflow) (0.6.1)\n",
            "Requirement already satisfied: werkzeug>=0.11.15 in /usr/local/lib/python3.7/dist-packages (from tensorboard<2.9,>=2.8->tensorflow) (1.0.1)\n",
            "Requirement already satisfied: markdown>=2.6.8 in /usr/local/lib/python3.7/dist-packages (from tensorboard<2.9,>=2.8->tensorflow) (3.4.1)\n",
            "Requirement already satisfied: tensorboard-plugin-wit>=1.6.0 in /usr/local/lib/python3.7/dist-packages (from tensorboard<2.9,>=2.8->tensorflow) (1.8.1)\n",
            "Requirement already satisfied: requests<3,>=2.21.0 in /usr/local/lib/python3.7/dist-packages (from tensorboard<2.9,>=2.8->tensorflow) (2.23.0)\n",
            "Requirement already satisfied: google-auth-oauthlib<0.5,>=0.4.1 in /usr/local/lib/python3.7/dist-packages (from tensorboard<2.9,>=2.8->tensorflow) (0.4.6)\n",
            "Requirement already satisfied: google-auth<3,>=1.6.3 in /usr/local/lib/python3.7/dist-packages (from tensorboard<2.9,>=2.8->tensorflow) (1.35.0)\n",
            "Requirement already satisfied: cachetools<5.0,>=2.0.0 in /usr/local/lib/python3.7/dist-packages (from google-auth<3,>=1.6.3->tensorboard<2.9,>=2.8->tensorflow) (4.2.4)\n",
            "Requirement already satisfied: pyasn1-modules>=0.2.1 in /usr/local/lib/python3.7/dist-packages (from google-auth<3,>=1.6.3->tensorboard<2.9,>=2.8->tensorflow) (0.2.8)\n",
            "Requirement already satisfied: rsa<5,>=3.1.4 in /usr/local/lib/python3.7/dist-packages (from google-auth<3,>=1.6.3->tensorboard<2.9,>=2.8->tensorflow) (4.9)\n",
            "Requirement already satisfied: requests-oauthlib>=0.7.0 in /usr/local/lib/python3.7/dist-packages (from google-auth-oauthlib<0.5,>=0.4.1->tensorboard<2.9,>=2.8->tensorflow) (1.3.1)\n",
            "Requirement already satisfied: importlib-metadata>=4.4 in /usr/local/lib/python3.7/dist-packages (from markdown>=2.6.8->tensorboard<2.9,>=2.8->tensorflow) (4.12.0)\n",
            "Requirement already satisfied: zipp>=0.5 in /usr/local/lib/python3.7/dist-packages (from importlib-metadata>=4.4->markdown>=2.6.8->tensorboard<2.9,>=2.8->tensorflow) (3.8.1)\n",
            "Requirement already satisfied: pyasn1<0.5.0,>=0.4.6 in /usr/local/lib/python3.7/dist-packages (from pyasn1-modules>=0.2.1->google-auth<3,>=1.6.3->tensorboard<2.9,>=2.8->tensorflow) (0.4.8)\n",
            "Requirement already satisfied: certifi>=2017.4.17 in /usr/local/lib/python3.7/dist-packages (from requests<3,>=2.21.0->tensorboard<2.9,>=2.8->tensorflow) (2022.6.15)\n",
            "Requirement already satisfied: chardet<4,>=3.0.2 in /usr/local/lib/python3.7/dist-packages (from requests<3,>=2.21.0->tensorboard<2.9,>=2.8->tensorflow) (3.0.4)\n",
            "Requirement already satisfied: idna<3,>=2.5 in /usr/local/lib/python3.7/dist-packages (from requests<3,>=2.21.0->tensorboard<2.9,>=2.8->tensorflow) (2.10)\n",
            "Requirement already satisfied: urllib3!=1.25.0,!=1.25.1,<1.26,>=1.21.1 in /usr/local/lib/python3.7/dist-packages (from requests<3,>=2.21.0->tensorboard<2.9,>=2.8->tensorflow) (1.24.3)\n",
            "Requirement already satisfied: oauthlib>=3.0.0 in /usr/local/lib/python3.7/dist-packages (from requests-oauthlib>=0.7.0->google-auth-oauthlib<0.5,>=0.4.1->tensorboard<2.9,>=2.8->tensorflow) (3.2.0)\n"
          ]
        }
      ],
      "source": [
        "pip install tensorflow\n"
      ]
    },
    {
      "cell_type": "code",
      "source": [
        "%tensorflow_version 2.x"
      ],
      "metadata": {
        "colab": {
          "base_uri": "https://localhost:8080/"
        },
        "id": "WYOSgtar3fjI",
        "outputId": "38916fc0-41c3-4a4e-c835-d5411dfe613e"
      },
      "execution_count": null,
      "outputs": [
        {
          "output_type": "stream",
          "name": "stdout",
          "text": [
            "Colab only includes TensorFlow 2.x; %tensorflow_version has no effect.\n"
          ]
        }
      ]
    },
    {
      "cell_type": "code",
      "source": [
        "import tensorflow as tf\n",
        "import numpy as np\n",
        "import pandas as pd\n",
        "import matplotlib.pyplot as plt\n",
        "import seaborn as sns\n",
        "import warnings\n",
        "from sklearn.metrics import r2_score,mean_squared_error,mean_absolute_error\n",
        "from sklearn.preprocessing import StandardScaler,MinMaxScaler\n",
        "from sklearn.preprocessing import FunctionTransformer,LabelEncoder,OneHotEncoder,OrdinalEncoder,StandardScaler,MinMaxScaler\n",
        "\n",
        "from sklearn.model_selection import train_test_split\n",
        "from __future__ import absolute_import, division, print_function, unicode_literals\n",
        "from IPython.display import clear_output\n",
        "import tensorflow.compat.v2.feature_column as fc\n",
        "from sklearn.model_selection import cross_val_score, KFold\n",
        "\n",
        "warnings.filterwarnings('ignore')\n",
        "%matplotlib inline"
      ],
      "metadata": {
        "id": "JPt1uRYd3fmb"
      },
      "execution_count": null,
      "outputs": []
    },
    {
      "cell_type": "code",
      "source": [
        "!pip install -q sklearn\n"
      ],
      "metadata": {
        "id": "brT7eeaqk5qd"
      },
      "execution_count": null,
      "outputs": []
    },
    {
      "cell_type": "markdown",
      "source": [
        "## Import and glimpse data"
      ],
      "metadata": {
        "id": "VLhcZH7Qqi4t"
      }
    },
    {
      "cell_type": "code",
      "source": [
        "df = pd.read_csv('insurance.csv')"
      ],
      "metadata": {
        "id": "1RinlQFsk5kT"
      },
      "execution_count": null,
      "outputs": []
    },
    {
      "cell_type": "code",
      "source": [
        "df.head()"
      ],
      "metadata": {
        "colab": {
          "base_uri": "https://localhost:8080/",
          "height": 206
        },
        "id": "xuFy5rnZo7Rq",
        "outputId": "7c7ca90b-8e6d-42ad-bbe9-fa7fec3d0169"
      },
      "execution_count": null,
      "outputs": [
        {
          "output_type": "execute_result",
          "data": {
            "text/plain": [
              "   age     sex     bmi  children smoker     region      charges\n",
              "0   19  female  27.900         0    yes  southwest  16884.92400\n",
              "1   18    male  33.770         1     no  southeast   1725.55230\n",
              "2   28    male  33.000         3     no  southeast   4449.46200\n",
              "3   33    male  22.705         0     no  northwest  21984.47061\n",
              "4   32    male  28.880         0     no  northwest   3866.85520"
            ],
            "text/html": [
              "\n",
              "  <div id=\"df-88e53fd0-0e32-48e8-8adf-5312cbf401ed\">\n",
              "    <div class=\"colab-df-container\">\n",
              "      <div>\n",
              "<style scoped>\n",
              "    .dataframe tbody tr th:only-of-type {\n",
              "        vertical-align: middle;\n",
              "    }\n",
              "\n",
              "    .dataframe tbody tr th {\n",
              "        vertical-align: top;\n",
              "    }\n",
              "\n",
              "    .dataframe thead th {\n",
              "        text-align: right;\n",
              "    }\n",
              "</style>\n",
              "<table border=\"1\" class=\"dataframe\">\n",
              "  <thead>\n",
              "    <tr style=\"text-align: right;\">\n",
              "      <th></th>\n",
              "      <th>age</th>\n",
              "      <th>sex</th>\n",
              "      <th>bmi</th>\n",
              "      <th>children</th>\n",
              "      <th>smoker</th>\n",
              "      <th>region</th>\n",
              "      <th>charges</th>\n",
              "    </tr>\n",
              "  </thead>\n",
              "  <tbody>\n",
              "    <tr>\n",
              "      <th>0</th>\n",
              "      <td>19</td>\n",
              "      <td>female</td>\n",
              "      <td>27.900</td>\n",
              "      <td>0</td>\n",
              "      <td>yes</td>\n",
              "      <td>southwest</td>\n",
              "      <td>16884.92400</td>\n",
              "    </tr>\n",
              "    <tr>\n",
              "      <th>1</th>\n",
              "      <td>18</td>\n",
              "      <td>male</td>\n",
              "      <td>33.770</td>\n",
              "      <td>1</td>\n",
              "      <td>no</td>\n",
              "      <td>southeast</td>\n",
              "      <td>1725.55230</td>\n",
              "    </tr>\n",
              "    <tr>\n",
              "      <th>2</th>\n",
              "      <td>28</td>\n",
              "      <td>male</td>\n",
              "      <td>33.000</td>\n",
              "      <td>3</td>\n",
              "      <td>no</td>\n",
              "      <td>southeast</td>\n",
              "      <td>4449.46200</td>\n",
              "    </tr>\n",
              "    <tr>\n",
              "      <th>3</th>\n",
              "      <td>33</td>\n",
              "      <td>male</td>\n",
              "      <td>22.705</td>\n",
              "      <td>0</td>\n",
              "      <td>no</td>\n",
              "      <td>northwest</td>\n",
              "      <td>21984.47061</td>\n",
              "    </tr>\n",
              "    <tr>\n",
              "      <th>4</th>\n",
              "      <td>32</td>\n",
              "      <td>male</td>\n",
              "      <td>28.880</td>\n",
              "      <td>0</td>\n",
              "      <td>no</td>\n",
              "      <td>northwest</td>\n",
              "      <td>3866.85520</td>\n",
              "    </tr>\n",
              "  </tbody>\n",
              "</table>\n",
              "</div>\n",
              "      <button class=\"colab-df-convert\" onclick=\"convertToInteractive('df-88e53fd0-0e32-48e8-8adf-5312cbf401ed')\"\n",
              "              title=\"Convert this dataframe to an interactive table.\"\n",
              "              style=\"display:none;\">\n",
              "        \n",
              "  <svg xmlns=\"http://www.w3.org/2000/svg\" height=\"24px\"viewBox=\"0 0 24 24\"\n",
              "       width=\"24px\">\n",
              "    <path d=\"M0 0h24v24H0V0z\" fill=\"none\"/>\n",
              "    <path d=\"M18.56 5.44l.94 2.06.94-2.06 2.06-.94-2.06-.94-.94-2.06-.94 2.06-2.06.94zm-11 1L8.5 8.5l.94-2.06 2.06-.94-2.06-.94L8.5 2.5l-.94 2.06-2.06.94zm10 10l.94 2.06.94-2.06 2.06-.94-2.06-.94-.94-2.06-.94 2.06-2.06.94z\"/><path d=\"M17.41 7.96l-1.37-1.37c-.4-.4-.92-.59-1.43-.59-.52 0-1.04.2-1.43.59L10.3 9.45l-7.72 7.72c-.78.78-.78 2.05 0 2.83L4 21.41c.39.39.9.59 1.41.59.51 0 1.02-.2 1.41-.59l7.78-7.78 2.81-2.81c.8-.78.8-2.07 0-2.86zM5.41 20L4 18.59l7.72-7.72 1.47 1.35L5.41 20z\"/>\n",
              "  </svg>\n",
              "      </button>\n",
              "      \n",
              "  <style>\n",
              "    .colab-df-container {\n",
              "      display:flex;\n",
              "      flex-wrap:wrap;\n",
              "      gap: 12px;\n",
              "    }\n",
              "\n",
              "    .colab-df-convert {\n",
              "      background-color: #E8F0FE;\n",
              "      border: none;\n",
              "      border-radius: 50%;\n",
              "      cursor: pointer;\n",
              "      display: none;\n",
              "      fill: #1967D2;\n",
              "      height: 32px;\n",
              "      padding: 0 0 0 0;\n",
              "      width: 32px;\n",
              "    }\n",
              "\n",
              "    .colab-df-convert:hover {\n",
              "      background-color: #E2EBFA;\n",
              "      box-shadow: 0px 1px 2px rgba(60, 64, 67, 0.3), 0px 1px 3px 1px rgba(60, 64, 67, 0.15);\n",
              "      fill: #174EA6;\n",
              "    }\n",
              "\n",
              "    [theme=dark] .colab-df-convert {\n",
              "      background-color: #3B4455;\n",
              "      fill: #D2E3FC;\n",
              "    }\n",
              "\n",
              "    [theme=dark] .colab-df-convert:hover {\n",
              "      background-color: #434B5C;\n",
              "      box-shadow: 0px 1px 3px 1px rgba(0, 0, 0, 0.15);\n",
              "      filter: drop-shadow(0px 1px 2px rgba(0, 0, 0, 0.3));\n",
              "      fill: #FFFFFF;\n",
              "    }\n",
              "  </style>\n",
              "\n",
              "      <script>\n",
              "        const buttonEl =\n",
              "          document.querySelector('#df-88e53fd0-0e32-48e8-8adf-5312cbf401ed button.colab-df-convert');\n",
              "        buttonEl.style.display =\n",
              "          google.colab.kernel.accessAllowed ? 'block' : 'none';\n",
              "\n",
              "        async function convertToInteractive(key) {\n",
              "          const element = document.querySelector('#df-88e53fd0-0e32-48e8-8adf-5312cbf401ed');\n",
              "          const dataTable =\n",
              "            await google.colab.kernel.invokeFunction('convertToInteractive',\n",
              "                                                     [key], {});\n",
              "          if (!dataTable) return;\n",
              "\n",
              "          const docLinkHtml = 'Like what you see? Visit the ' +\n",
              "            '<a target=\"_blank\" href=https://colab.research.google.com/notebooks/data_table.ipynb>data table notebook</a>'\n",
              "            + ' to learn more about interactive tables.';\n",
              "          element.innerHTML = '';\n",
              "          dataTable['output_type'] = 'display_data';\n",
              "          await google.colab.output.renderOutput(dataTable, element);\n",
              "          const docLink = document.createElement('div');\n",
              "          docLink.innerHTML = docLinkHtml;\n",
              "          element.appendChild(docLink);\n",
              "        }\n",
              "      </script>\n",
              "    </div>\n",
              "  </div>\n",
              "  "
            ]
          },
          "metadata": {},
          "execution_count": 364
        }
      ]
    },
    {
      "cell_type": "markdown",
      "source": [
        "**bmi** - body mass index"
      ],
      "metadata": {
        "id": "8YUT0Eb8qPYX"
      }
    },
    {
      "cell_type": "code",
      "source": [
        "df.info()"
      ],
      "metadata": {
        "colab": {
          "base_uri": "https://localhost:8080/"
        },
        "id": "JmEIicSyk5hT",
        "outputId": "3986e86c-e342-41f5-df2d-9f04a93d2690"
      },
      "execution_count": null,
      "outputs": [
        {
          "output_type": "stream",
          "name": "stdout",
          "text": [
            "<class 'pandas.core.frame.DataFrame'>\n",
            "RangeIndex: 1338 entries, 0 to 1337\n",
            "Data columns (total 7 columns):\n",
            " #   Column    Non-Null Count  Dtype  \n",
            "---  ------    --------------  -----  \n",
            " 0   age       1338 non-null   int64  \n",
            " 1   sex       1338 non-null   object \n",
            " 2   bmi       1338 non-null   float64\n",
            " 3   children  1338 non-null   int64  \n",
            " 4   smoker    1338 non-null   object \n",
            " 5   region    1338 non-null   object \n",
            " 6   charges   1338 non-null   float64\n",
            "dtypes: float64(2), int64(2), object(3)\n",
            "memory usage: 73.3+ KB\n"
          ]
        }
      ]
    },
    {
      "cell_type": "code",
      "source": [
        "df.dtypes"
      ],
      "metadata": {
        "colab": {
          "base_uri": "https://localhost:8080/"
        },
        "id": "xfJPJG5PHKlN",
        "outputId": "6e8fad51-b58c-474a-c278-02dfd80aa6ea"
      },
      "execution_count": null,
      "outputs": [
        {
          "output_type": "execute_result",
          "data": {
            "text/plain": [
              "age           int64\n",
              "sex          object\n",
              "bmi         float64\n",
              "children      int64\n",
              "smoker       object\n",
              "region       object\n",
              "charges     float64\n",
              "dtype: object"
            ]
          },
          "metadata": {},
          "execution_count": 366
        }
      ]
    },
    {
      "cell_type": "code",
      "source": [
        "df.isnull().sum()"
      ],
      "metadata": {
        "colab": {
          "base_uri": "https://localhost:8080/"
        },
        "id": "qZP7itBzk5eF",
        "outputId": "b20539ef-da26-47ab-9d67-49de8bb8f868"
      },
      "execution_count": null,
      "outputs": [
        {
          "output_type": "execute_result",
          "data": {
            "text/plain": [
              "age         0\n",
              "sex         0\n",
              "bmi         0\n",
              "children    0\n",
              "smoker      0\n",
              "region      0\n",
              "charges     0\n",
              "dtype: int64"
            ]
          },
          "metadata": {},
          "execution_count": 367
        }
      ]
    },
    {
      "cell_type": "code",
      "source": [
        "df.duplicated().sum()"
      ],
      "metadata": {
        "colab": {
          "base_uri": "https://localhost:8080/"
        },
        "id": "DN-s3l4mk5Y7",
        "outputId": "299abd27-724c-4c90-c339-8bc20f821543"
      },
      "execution_count": null,
      "outputs": [
        {
          "output_type": "execute_result",
          "data": {
            "text/plain": [
              "1"
            ]
          },
          "metadata": {},
          "execution_count": 368
        }
      ]
    },
    {
      "cell_type": "code",
      "source": [
        "df.drop_duplicates(inplace=True)"
      ],
      "metadata": {
        "id": "5AXlntO7pIw1"
      },
      "execution_count": null,
      "outputs": []
    },
    {
      "cell_type": "code",
      "source": [
        "df.duplicated().sum()"
      ],
      "metadata": {
        "colab": {
          "base_uri": "https://localhost:8080/"
        },
        "id": "xU3Pas_hpQmE",
        "outputId": "4409125b-de2d-4562-845e-03394fb9b8fa"
      },
      "execution_count": null,
      "outputs": [
        {
          "output_type": "execute_result",
          "data": {
            "text/plain": [
              "0"
            ]
          },
          "metadata": {},
          "execution_count": 370
        }
      ]
    },
    {
      "cell_type": "code",
      "source": [
        "df.shape"
      ],
      "metadata": {
        "colab": {
          "base_uri": "https://localhost:8080/"
        },
        "id": "aSUE1qHZpW82",
        "outputId": "7f57b002-e801-4693-d3b1-9e3c55cd4695"
      },
      "execution_count": null,
      "outputs": [
        {
          "output_type": "execute_result",
          "data": {
            "text/plain": [
              "(1337, 7)"
            ]
          },
          "metadata": {},
          "execution_count": 371
        }
      ]
    },
    {
      "cell_type": "code",
      "source": [
        "df.describe()"
      ],
      "metadata": {
        "colab": {
          "base_uri": "https://localhost:8080/",
          "height": 300
        },
        "id": "KmpQKL24pSD7",
        "outputId": "eb33bf5e-9c93-4659-8d9e-74e2d9ad8925"
      },
      "execution_count": null,
      "outputs": [
        {
          "output_type": "execute_result",
          "data": {
            "text/plain": [
              "               age          bmi     children       charges\n",
              "count  1337.000000  1337.000000  1337.000000   1337.000000\n",
              "mean     39.222139    30.663452     1.095737  13279.121487\n",
              "std      14.044333     6.100468     1.205571  12110.359656\n",
              "min      18.000000    15.960000     0.000000   1121.873900\n",
              "25%      27.000000    26.290000     0.000000   4746.344000\n",
              "50%      39.000000    30.400000     1.000000   9386.161300\n",
              "75%      51.000000    34.700000     2.000000  16657.717450\n",
              "max      64.000000    53.130000     5.000000  63770.428010"
            ],
            "text/html": [
              "\n",
              "  <div id=\"df-0db691c5-75b0-4692-aa37-a89193048d62\">\n",
              "    <div class=\"colab-df-container\">\n",
              "      <div>\n",
              "<style scoped>\n",
              "    .dataframe tbody tr th:only-of-type {\n",
              "        vertical-align: middle;\n",
              "    }\n",
              "\n",
              "    .dataframe tbody tr th {\n",
              "        vertical-align: top;\n",
              "    }\n",
              "\n",
              "    .dataframe thead th {\n",
              "        text-align: right;\n",
              "    }\n",
              "</style>\n",
              "<table border=\"1\" class=\"dataframe\">\n",
              "  <thead>\n",
              "    <tr style=\"text-align: right;\">\n",
              "      <th></th>\n",
              "      <th>age</th>\n",
              "      <th>bmi</th>\n",
              "      <th>children</th>\n",
              "      <th>charges</th>\n",
              "    </tr>\n",
              "  </thead>\n",
              "  <tbody>\n",
              "    <tr>\n",
              "      <th>count</th>\n",
              "      <td>1337.000000</td>\n",
              "      <td>1337.000000</td>\n",
              "      <td>1337.000000</td>\n",
              "      <td>1337.000000</td>\n",
              "    </tr>\n",
              "    <tr>\n",
              "      <th>mean</th>\n",
              "      <td>39.222139</td>\n",
              "      <td>30.663452</td>\n",
              "      <td>1.095737</td>\n",
              "      <td>13279.121487</td>\n",
              "    </tr>\n",
              "    <tr>\n",
              "      <th>std</th>\n",
              "      <td>14.044333</td>\n",
              "      <td>6.100468</td>\n",
              "      <td>1.205571</td>\n",
              "      <td>12110.359656</td>\n",
              "    </tr>\n",
              "    <tr>\n",
              "      <th>min</th>\n",
              "      <td>18.000000</td>\n",
              "      <td>15.960000</td>\n",
              "      <td>0.000000</td>\n",
              "      <td>1121.873900</td>\n",
              "    </tr>\n",
              "    <tr>\n",
              "      <th>25%</th>\n",
              "      <td>27.000000</td>\n",
              "      <td>26.290000</td>\n",
              "      <td>0.000000</td>\n",
              "      <td>4746.344000</td>\n",
              "    </tr>\n",
              "    <tr>\n",
              "      <th>50%</th>\n",
              "      <td>39.000000</td>\n",
              "      <td>30.400000</td>\n",
              "      <td>1.000000</td>\n",
              "      <td>9386.161300</td>\n",
              "    </tr>\n",
              "    <tr>\n",
              "      <th>75%</th>\n",
              "      <td>51.000000</td>\n",
              "      <td>34.700000</td>\n",
              "      <td>2.000000</td>\n",
              "      <td>16657.717450</td>\n",
              "    </tr>\n",
              "    <tr>\n",
              "      <th>max</th>\n",
              "      <td>64.000000</td>\n",
              "      <td>53.130000</td>\n",
              "      <td>5.000000</td>\n",
              "      <td>63770.428010</td>\n",
              "    </tr>\n",
              "  </tbody>\n",
              "</table>\n",
              "</div>\n",
              "      <button class=\"colab-df-convert\" onclick=\"convertToInteractive('df-0db691c5-75b0-4692-aa37-a89193048d62')\"\n",
              "              title=\"Convert this dataframe to an interactive table.\"\n",
              "              style=\"display:none;\">\n",
              "        \n",
              "  <svg xmlns=\"http://www.w3.org/2000/svg\" height=\"24px\"viewBox=\"0 0 24 24\"\n",
              "       width=\"24px\">\n",
              "    <path d=\"M0 0h24v24H0V0z\" fill=\"none\"/>\n",
              "    <path d=\"M18.56 5.44l.94 2.06.94-2.06 2.06-.94-2.06-.94-.94-2.06-.94 2.06-2.06.94zm-11 1L8.5 8.5l.94-2.06 2.06-.94-2.06-.94L8.5 2.5l-.94 2.06-2.06.94zm10 10l.94 2.06.94-2.06 2.06-.94-2.06-.94-.94-2.06-.94 2.06-2.06.94z\"/><path d=\"M17.41 7.96l-1.37-1.37c-.4-.4-.92-.59-1.43-.59-.52 0-1.04.2-1.43.59L10.3 9.45l-7.72 7.72c-.78.78-.78 2.05 0 2.83L4 21.41c.39.39.9.59 1.41.59.51 0 1.02-.2 1.41-.59l7.78-7.78 2.81-2.81c.8-.78.8-2.07 0-2.86zM5.41 20L4 18.59l7.72-7.72 1.47 1.35L5.41 20z\"/>\n",
              "  </svg>\n",
              "      </button>\n",
              "      \n",
              "  <style>\n",
              "    .colab-df-container {\n",
              "      display:flex;\n",
              "      flex-wrap:wrap;\n",
              "      gap: 12px;\n",
              "    }\n",
              "\n",
              "    .colab-df-convert {\n",
              "      background-color: #E8F0FE;\n",
              "      border: none;\n",
              "      border-radius: 50%;\n",
              "      cursor: pointer;\n",
              "      display: none;\n",
              "      fill: #1967D2;\n",
              "      height: 32px;\n",
              "      padding: 0 0 0 0;\n",
              "      width: 32px;\n",
              "    }\n",
              "\n",
              "    .colab-df-convert:hover {\n",
              "      background-color: #E2EBFA;\n",
              "      box-shadow: 0px 1px 2px rgba(60, 64, 67, 0.3), 0px 1px 3px 1px rgba(60, 64, 67, 0.15);\n",
              "      fill: #174EA6;\n",
              "    }\n",
              "\n",
              "    [theme=dark] .colab-df-convert {\n",
              "      background-color: #3B4455;\n",
              "      fill: #D2E3FC;\n",
              "    }\n",
              "\n",
              "    [theme=dark] .colab-df-convert:hover {\n",
              "      background-color: #434B5C;\n",
              "      box-shadow: 0px 1px 3px 1px rgba(0, 0, 0, 0.15);\n",
              "      filter: drop-shadow(0px 1px 2px rgba(0, 0, 0, 0.3));\n",
              "      fill: #FFFFFF;\n",
              "    }\n",
              "  </style>\n",
              "\n",
              "      <script>\n",
              "        const buttonEl =\n",
              "          document.querySelector('#df-0db691c5-75b0-4692-aa37-a89193048d62 button.colab-df-convert');\n",
              "        buttonEl.style.display =\n",
              "          google.colab.kernel.accessAllowed ? 'block' : 'none';\n",
              "\n",
              "        async function convertToInteractive(key) {\n",
              "          const element = document.querySelector('#df-0db691c5-75b0-4692-aa37-a89193048d62');\n",
              "          const dataTable =\n",
              "            await google.colab.kernel.invokeFunction('convertToInteractive',\n",
              "                                                     [key], {});\n",
              "          if (!dataTable) return;\n",
              "\n",
              "          const docLinkHtml = 'Like what you see? Visit the ' +\n",
              "            '<a target=\"_blank\" href=https://colab.research.google.com/notebooks/data_table.ipynb>data table notebook</a>'\n",
              "            + ' to learn more about interactive tables.';\n",
              "          element.innerHTML = '';\n",
              "          dataTable['output_type'] = 'display_data';\n",
              "          await google.colab.output.renderOutput(dataTable, element);\n",
              "          const docLink = document.createElement('div');\n",
              "          docLink.innerHTML = docLinkHtml;\n",
              "          element.appendChild(docLink);\n",
              "        }\n",
              "      </script>\n",
              "    </div>\n",
              "  </div>\n",
              "  "
            ]
          },
          "metadata": {},
          "execution_count": 372
        }
      ]
    },
    {
      "cell_type": "markdown",
      "source": [
        "##Exploratory Data Analysis"
      ],
      "metadata": {
        "id": "RWjnKdvkqXzj"
      }
    },
    {
      "cell_type": "code",
      "source": [
        "df['charges'].groupby(by=df['sex']).mean().plot(kind='barh')"
      ],
      "metadata": {
        "colab": {
          "base_uri": "https://localhost:8080/",
          "height": 282
        },
        "id": "l1F6Bs6GpVKD",
        "outputId": "05eadf8a-6694-49a4-871d-72be3eff150e"
      },
      "execution_count": null,
      "outputs": [
        {
          "output_type": "execute_result",
          "data": {
            "text/plain": [
              "<matplotlib.axes._subplots.AxesSubplot at 0x7f6e9a2bf510>"
            ]
          },
          "metadata": {},
          "execution_count": 373
        },
        {
          "output_type": "display_data",
          "data": {
            "text/plain": [
              "<Figure size 432x288 with 1 Axes>"
            ],
            "image/png": "[encoded data removed]"
          },
          "metadata": {
            "needs_background": "light"
          }
        }
      ]
    },
    {
      "cell_type": "code",
      "source": [
        "sns.countplot(df['smoker'],hue=df['sex'])"
      ],
      "metadata": {
        "id": "sR5OF_XHrfu6",
        "colab": {
          "base_uri": "https://localhost:8080/",
          "height": 296
        },
        "outputId": "bf362f30-063b-4caf-b9a1-e388555d7a36"
      },
      "execution_count": null,
      "outputs": [
        {
          "output_type": "execute_result",
          "data": {
            "text/plain": [
              "<matplotlib.axes._subplots.AxesSubplot at 0x7f6e9a1d54d0>"
            ]
          },
          "metadata": {},
          "execution_count": 374
        },
        {
          "output_type": "display_data",
          "data": {
            "text/plain": [
              "<Figure size 432x288 with 1 Axes>"
            ],
            "image/png": "[encoded data removed]"
          },
          "metadata": {
            "needs_background": "light"
          }
        }
      ]
    },
    {
      "cell_type": "code",
      "source": [
        "sns.countplot(df['smoker'],hue=df['region'])"
      ],
      "metadata": {
        "colab": {
          "base_uri": "https://localhost:8080/",
          "height": 296
        },
        "id": "IVsa0Zq4FzdO",
        "outputId": "e4f4ee79-c43d-446e-fe27-85645d6ae865"
      },
      "execution_count": null,
      "outputs": [
        {
          "output_type": "execute_result",
          "data": {
            "text/plain": [
              "<matplotlib.axes._subplots.AxesSubplot at 0x7f6e9a148110>"
            ]
          },
          "metadata": {},
          "execution_count": 375
        },
        {
          "output_type": "display_data",
          "data": {
            "text/plain": [
              "<Figure size 432x288 with 1 Axes>"
            ],
            "image/png": "[encoded data removed]"
          },
          "metadata": {
            "needs_background": "light"
          }
        }
      ]
    },
    {
      "cell_type": "code",
      "source": [
        "sns.distplot(df['age'],kde=True)"
      ],
      "metadata": {
        "colab": {
          "base_uri": "https://localhost:8080/",
          "height": 296
        },
        "id": "-bca3WjJGH0k",
        "outputId": "17097318-2d32-4880-a54b-37fbb6842a06"
      },
      "execution_count": null,
      "outputs": [
        {
          "output_type": "execute_result",
          "data": {
            "text/plain": [
              "<matplotlib.axes._subplots.AxesSubplot at 0x7f6e9a1715d0>"
            ]
          },
          "metadata": {},
          "execution_count": 376
        },
        {
          "output_type": "display_data",
          "data": {
            "text/plain": [
              "<Figure size 432x288 with 1 Axes>"
            ],
            "image/png": "[encoded data removed]"
          },
          "metadata": {
            "needs_background": "light"
          }
        }
      ]
    },
    {
      "cell_type": "code",
      "source": [
        "sns.distplot(df['bmi'])"
      ],
      "metadata": {
        "colab": {
          "base_uri": "https://localhost:8080/",
          "height": 296
        },
        "id": "GfgVmeIxGPeb",
        "outputId": "2372e9f6-230b-4101-f5a8-0432584510d3"
      },
      "execution_count": null,
      "outputs": [
        {
          "output_type": "execute_result",
          "data": {
            "text/plain": [
              "<matplotlib.axes._subplots.AxesSubplot at 0x7f6e9a05c910>"
            ]
          },
          "metadata": {},
          "execution_count": 377
        },
        {
          "output_type": "display_data",
          "data": {
            "text/plain": [
              "<Figure size 432x288 with 1 Axes>"
            ],
            "image/png": "[encoded data removed]"
          },
          "metadata": {
            "needs_background": "light"
          }
        }
      ]
    },
    {
      "cell_type": "code",
      "source": [
        "sns.distplot(df['charges'])"
      ],
      "metadata": {
        "colab": {
          "base_uri": "https://localhost:8080/",
          "height": 307
        },
        "id": "zPD1Tg_gGe95",
        "outputId": "bd3a1be5-7347-49e2-b8e1-53e2d1e6cc56"
      },
      "execution_count": null,
      "outputs": [
        {
          "output_type": "execute_result",
          "data": {
            "text/plain": [
              "<matplotlib.axes._subplots.AxesSubplot at 0x7f6e9a088f10>"
            ]
          },
          "metadata": {},
          "execution_count": 378
        },
        {
          "output_type": "display_data",
          "data": {
            "text/plain": [
              "<Figure size 432x288 with 1 Axes>"
            ],
            "image/png": "[encoded data removed]"
          },
          "metadata": {
            "needs_background": "light"
          }
        }
      ]
    },
    {
      "cell_type": "code",
      "source": [
        "df['children'].unique()"
      ],
      "metadata": {
        "colab": {
          "base_uri": "https://localhost:8080/"
        },
        "id": "vZeLP-HCGnEw",
        "outputId": "5233c3ab-afdf-4cf7-f8ff-3fdfbcd10107"
      },
      "execution_count": null,
      "outputs": [
        {
          "output_type": "execute_result",
          "data": {
            "text/plain": [
              "array([0, 1, 3, 2, 5, 4])"
            ]
          },
          "metadata": {},
          "execution_count": 379
        }
      ]
    },
    {
      "cell_type": "code",
      "source": [
        "sns.boxplot(df['bmi'])"
      ],
      "metadata": {
        "colab": {
          "base_uri": "https://localhost:8080/",
          "height": 296
        },
        "id": "3G5aDqfmGyEO",
        "outputId": "2b65b8bd-da15-4a59-9273-7e86bff6a689"
      },
      "execution_count": null,
      "outputs": [
        {
          "output_type": "execute_result",
          "data": {
            "text/plain": [
              "<matplotlib.axes._subplots.AxesSubplot at 0x7f6e99edb790>"
            ]
          },
          "metadata": {},
          "execution_count": 380
        },
        {
          "output_type": "display_data",
          "data": {
            "text/plain": [
              "<Figure size 432x288 with 1 Axes>"
            ],
            "image/png": "[encoded data removed]"
          },
          "metadata": {
            "needs_background": "light"
          }
        }
      ]
    },
    {
      "cell_type": "code",
      "source": [
        "plt.figure(figsize=(8,4))\n",
        "sns.histplot(data=df, x = 'charges' )"
      ],
      "metadata": {
        "colab": {
          "base_uri": "https://localhost:8080/",
          "height": 296
        },
        "id": "ZNNvA4V2KdeP",
        "outputId": "556b5f43-06e3-4ee2-ec8a-0d74e4ccefd7"
      },
      "execution_count": null,
      "outputs": [
        {
          "output_type": "execute_result",
          "data": {
            "text/plain": [
              "<matplotlib.axes._subplots.AxesSubplot at 0x7f6e99eb8b10>"
            ]
          },
          "metadata": {},
          "execution_count": 381
        },
        {
          "output_type": "display_data",
          "data": {
            "text/plain": [
              "<Figure size 576x288 with 1 Axes>"
            ],
            "image/png": "[encoded data removed]"
          },
          "metadata": {
            "needs_background": "light"
          }
        }
      ]
    },
    {
      "cell_type": "code",
      "source": [
        "df.charges = np.log1p(df.charges)"
      ],
      "metadata": {
        "id": "YrltKveXKdhZ"
      },
      "execution_count": null,
      "outputs": []
    },
    {
      "cell_type": "code",
      "source": [
        "sns.histplot(data=df, x = 'charges' )"
      ],
      "metadata": {
        "colab": {
          "base_uri": "https://localhost:8080/",
          "height": 296
        },
        "id": "pQH0mc-lKdkc",
        "outputId": "256cd566-ed2b-4674-d946-c26e9e289776"
      },
      "execution_count": null,
      "outputs": [
        {
          "output_type": "execute_result",
          "data": {
            "text/plain": [
              "<matplotlib.axes._subplots.AxesSubplot at 0x7f6e99ead190>"
            ]
          },
          "metadata": {},
          "execution_count": 391
        },
        {
          "output_type": "display_data",
          "data": {
            "text/plain": [
              "<Figure size 432x288 with 1 Axes>"
            ],
            "image/png": "[encoded data removed]"
          },
          "metadata": {
            "needs_background": "light"
          }
        }
      ]
    },
    {
      "cell_type": "code",
      "source": [
        "cat_vars = ['sex','smoker', 'region']\n"
      ],
      "metadata": {
        "id": "lLxZc0bDO4uj"
      },
      "execution_count": null,
      "outputs": []
    },
    {
      "cell_type": "code",
      "source": [
        "X= df.drop('charges',axis=1)\n",
        "y= df['charges']"
      ],
      "metadata": {
        "id": "zqUjoZMFIEME"
      },
      "execution_count": null,
      "outputs": []
    },
    {
      "cell_type": "markdown",
      "source": [
        "##Model Implementation"
      ],
      "metadata": {
        "id": "Pv8WbEuNIA-Z"
      }
    },
    {
      "cell_type": "code",
      "source": [
        "# Divide data into training and validation subsets\n",
        "X_train, X_test, y_train, y_test = train_test_split(X, y, \n",
        "                                                      train_size=0.75,\n",
        "                                                      test_size=0.25,\n",
        "                                                      random_state=42)"
      ],
      "metadata": {
        "id": "fTek1iFpHnzX"
      },
      "execution_count": null,
      "outputs": []
    },
    {
      "cell_type": "code",
      "source": [
        "from sklearn.pipeline import Pipeline\n",
        "from sklearn.compose import ColumnTransformer\n",
        "from sklearn.linear_model import LinearRegression\n",
        "\n",
        "num_vars = ['age','bmi']\n",
        "\n",
        "numeric_transformer = Pipeline(steps=[\n",
        "    ('scaler', MinMaxScaler())])\n",
        "\n",
        "# preprocessor = ColumnTransformer(transformers=[\n",
        "#     ('num',numeric_transformer,num_vars)])\n",
        "\n",
        "categoric_transformer = Pipeline(steps=[\n",
        "    ('encoder', OneHotEncoder())])\n",
        "\n",
        "preprocessor = ColumnTransformer(transformers=[\n",
        "   ('num',numeric_transformer,num_vars),\n",
        "   ('cat',categoric_transformer, cat_vars)])"
      ],
      "metadata": {
        "id": "MrQ2NcXhIMBb"
      },
      "execution_count": null,
      "outputs": []
    },
    {
      "cell_type": "code",
      "source": [
        "data_pipeline = Pipeline(steps = [\n",
        "                                    ('preprocessor', preprocessor),\n",
        "                                    ('model', LinearRegression(copy_X = True, fit_intercept = True, normalize = True))])"
      ],
      "metadata": {
        "id": "lWlpf-jVI0r9"
      },
      "execution_count": null,
      "outputs": []
    },
    {
      "cell_type": "code",
      "source": [
        "data_pipeline.fit(X_train, y_train)\n"
      ],
      "metadata": {
        "colab": {
          "base_uri": "https://localhost:8080/"
        },
        "id": "424wTWwjp5eH",
        "outputId": "46c4e786-8d2d-46f6-f1ac-966ec65a774e"
      },
      "execution_count": null,
      "outputs": [
        {
          "output_type": "execute_result",
          "data": {
            "text/plain": [
              "Pipeline(steps=[('preprocessor',\n",
              "                 ColumnTransformer(transformers=[('num',\n",
              "                                                  Pipeline(steps=[('scaler',\n",
              "                                                                   MinMaxScaler())]),\n",
              "                                                  ['age', 'bmi']),\n",
              "                                                 ('cat',\n",
              "                                                  Pipeline(steps=[('encoder',\n",
              "                                                                   OneHotEncoder())]),\n",
              "                                                  ['sex', 'smoker',\n",
              "                                                   'region'])])),\n",
              "                ('model', LinearRegression(normalize=True))])"
            ]
          },
          "metadata": {},
          "execution_count": 396
        }
      ]
    },
    {
      "cell_type": "code",
      "source": [
        "y_pred=data_pipeline.predict(X_test)"
      ],
      "metadata": {
        "id": "fxUsjZRmp5Xe"
      },
      "execution_count": null,
      "outputs": []
    },
    {
      "cell_type": "code",
      "source": [
        "r2_score(y_test,y_pred)"
      ],
      "metadata": {
        "colab": {
          "base_uri": "https://localhost:8080/"
        },
        "id": "kSk74LOxKDmD",
        "outputId": "e08cd60e-03be-45f1-f148-095e09a64754"
      },
      "execution_count": null,
      "outputs": [
        {
          "output_type": "execute_result",
          "data": {
            "text/plain": [
              "0.8030111570274345"
            ]
          },
          "metadata": {},
          "execution_count": 398
        }
      ]
    },
    {
      "cell_type": "markdown",
      "source": [
        "##Tensorflow Linear Regression"
      ],
      "metadata": {
        "id": "UZ4feZjY9g5s"
      }
    },
    {
      "cell_type": "code",
      "source": [
        "pip install tensorflow-addons"
      ],
      "metadata": {
        "colab": {
          "base_uri": "https://localhost:8080/"
        },
        "id": "ErlbzVwOidb0",
        "outputId": "90e5e21d-f88a-4c7d-c9f6-16ce6d3e7db0"
      },
      "execution_count": 480,
      "outputs": [
        {
          "output_type": "stream",
          "name": "stdout",
          "text": [
            "Looking in indexes: https://pypi.org/simple, https://us-python.pkg.dev/colab-wheels/public/simple/\n",
            "Requirement already satisfied: tensorflow-addons in /usr/local/lib/python3.7/dist-packages (0.17.1)\n",
            "Requirement already satisfied: typeguard>=2.7 in /usr/local/lib/python3.7/dist-packages (from tensorflow-addons) (2.7.1)\n",
            "Requirement already satisfied: packaging in /usr/local/lib/python3.7/dist-packages (from tensorflow-addons) (21.3)\n",
            "Requirement already satisfied: pyparsing!=3.0.5,>=2.0.2 in /usr/local/lib/python3.7/dist-packages (from packaging->tensorflow-addons) (3.0.9)\n"
          ]
        }
      ]
    },
    {
      "cell_type": "code",
      "source": [
        "import tensorflow_addons as tfa"
      ],
      "metadata": {
        "id": "LJ3wgBCdiiQR"
      },
      "execution_count": 479,
      "outputs": []
    },
    {
      "cell_type": "code",
      "source": [
        "df"
      ],
      "metadata": {
        "colab": {
          "base_uri": "https://localhost:8080/",
          "height": 424
        },
        "id": "3XpeArSH9r78",
        "outputId": "79218174-8e96-4239-8043-36271cbc2836"
      },
      "execution_count": null,
      "outputs": [
        {
          "output_type": "execute_result",
          "data": {
            "text/plain": [
              "      age     sex     bmi  children smoker     region    charges\n",
              "0      19  female  27.900         0    yes  southwest   9.734236\n",
              "1      18    male  33.770         1     no  southeast   7.453882\n",
              "2      28    male  33.000         3     no  southeast   8.400763\n",
              "3      33    male  22.705         0     no  northwest   9.998137\n",
              "4      32    male  28.880         0     no  northwest   8.260455\n",
              "...   ...     ...     ...       ...    ...        ...        ...\n",
              "1333   50    male  30.970         3     no  northwest   9.268755\n",
              "1334   18  female  31.920         0     no  northeast   7.699381\n",
              "1335   18  female  36.850         0     no  southeast   7.396847\n",
              "1336   21  female  25.800         0     no  southwest   7.605365\n",
              "1337   61  female  29.070         0    yes  northwest  10.279948\n",
              "\n",
              "[1337 rows x 7 columns]"
            ],
            "text/html": [
              "\n",
              "  <div id=\"df-ad642a39-73af-4092-b9d8-d585cf99bbe2\">\n",
              "    <div class=\"colab-df-container\">\n",
              "      <div>\n",
              "<style scoped>\n",
              "    .dataframe tbody tr th:only-of-type {\n",
              "        vertical-align: middle;\n",
              "    }\n",
              "\n",
              "    .dataframe tbody tr th {\n",
              "        vertical-align: top;\n",
              "    }\n",
              "\n",
              "    .dataframe thead th {\n",
              "        text-align: right;\n",
              "    }\n",
              "</style>\n",
              "<table border=\"1\" class=\"dataframe\">\n",
              "  <thead>\n",
              "    <tr style=\"text-align: right;\">\n",
              "      <th></th>\n",
              "      <th>age</th>\n",
              "      <th>sex</th>\n",
              "      <th>bmi</th>\n",
              "      <th>children</th>\n",
              "      <th>smoker</th>\n",
              "      <th>region</th>\n",
              "      <th>charges</th>\n",
              "    </tr>\n",
              "  </thead>\n",
              "  <tbody>\n",
              "    <tr>\n",
              "      <th>0</th>\n",
              "      <td>19</td>\n",
              "      <td>female</td>\n",
              "      <td>27.900</td>\n",
              "      <td>0</td>\n",
              "      <td>yes</td>\n",
              "      <td>southwest</td>\n",
              "      <td>9.734236</td>\n",
              "    </tr>\n",
              "    <tr>\n",
              "      <th>1</th>\n",
              "      <td>18</td>\n",
              "      <td>male</td>\n",
              "      <td>33.770</td>\n",
              "      <td>1</td>\n",
              "      <td>no</td>\n",
              "      <td>southeast</td>\n",
              "      <td>7.453882</td>\n",
              "    </tr>\n",
              "    <tr>\n",
              "      <th>2</th>\n",
              "      <td>28</td>\n",
              "      <td>male</td>\n",
              "      <td>33.000</td>\n",
              "      <td>3</td>\n",
              "      <td>no</td>\n",
              "      <td>southeast</td>\n",
              "      <td>8.400763</td>\n",
              "    </tr>\n",
              "    <tr>\n",
              "      <th>3</th>\n",
              "      <td>33</td>\n",
              "      <td>male</td>\n",
              "      <td>22.705</td>\n",
              "      <td>0</td>\n",
              "      <td>no</td>\n",
              "      <td>northwest</td>\n",
              "      <td>9.998137</td>\n",
              "    </tr>\n",
              "    <tr>\n",
              "      <th>4</th>\n",
              "      <td>32</td>\n",
              "      <td>male</td>\n",
              "      <td>28.880</td>\n",
              "      <td>0</td>\n",
              "      <td>no</td>\n",
              "      <td>northwest</td>\n",
              "      <td>8.260455</td>\n",
              "    </tr>\n",
              "    <tr>\n",
              "      <th>...</th>\n",
              "      <td>...</td>\n",
              "      <td>...</td>\n",
              "      <td>...</td>\n",
              "      <td>...</td>\n",
              "      <td>...</td>\n",
              "      <td>...</td>\n",
              "      <td>...</td>\n",
              "    </tr>\n",
              "    <tr>\n",
              "      <th>1333</th>\n",
              "      <td>50</td>\n",
              "      <td>male</td>\n",
              "      <td>30.970</td>\n",
              "      <td>3</td>\n",
              "      <td>no</td>\n",
              "      <td>northwest</td>\n",
              "      <td>9.268755</td>\n",
              "    </tr>\n",
              "    <tr>\n",
              "      <th>1334</th>\n",
              "      <td>18</td>\n",
              "      <td>female</td>\n",
              "      <td>31.920</td>\n",
              "      <td>0</td>\n",
              "      <td>no</td>\n",
              "      <td>northeast</td>\n",
              "      <td>7.699381</td>\n",
              "    </tr>\n",
              "    <tr>\n",
              "      <th>1335</th>\n",
              "      <td>18</td>\n",
              "      <td>female</td>\n",
              "      <td>36.850</td>\n",
              "      <td>0</td>\n",
              "      <td>no</td>\n",
              "      <td>southeast</td>\n",
              "      <td>7.396847</td>\n",
              "    </tr>\n",
              "    <tr>\n",
              "      <th>1336</th>\n",
              "      <td>21</td>\n",
              "      <td>female</td>\n",
              "      <td>25.800</td>\n",
              "      <td>0</td>\n",
              "      <td>no</td>\n",
              "      <td>southwest</td>\n",
              "      <td>7.605365</td>\n",
              "    </tr>\n",
              "    <tr>\n",
              "      <th>1337</th>\n",
              "      <td>61</td>\n",
              "      <td>female</td>\n",
              "      <td>29.070</td>\n",
              "      <td>0</td>\n",
              "      <td>yes</td>\n",
              "      <td>northwest</td>\n",
              "      <td>10.279948</td>\n",
              "    </tr>\n",
              "  </tbody>\n",
              "</table>\n",
              "<p>1337 rows × 7 columns</p>\n",
              "</div>\n",
              "      <button class=\"colab-df-convert\" onclick=\"convertToInteractive('df-ad642a39-73af-4092-b9d8-d585cf99bbe2')\"\n",
              "              title=\"Convert this dataframe to an interactive table.\"\n",
              "              style=\"display:none;\">\n",
              "        \n",
              "  <svg xmlns=\"http://www.w3.org/2000/svg\" height=\"24px\"viewBox=\"0 0 24 24\"\n",
              "       width=\"24px\">\n",
              "    <path d=\"M0 0h24v24H0V0z\" fill=\"none\"/>\n",
              "    <path d=\"M18.56 5.44l.94 2.06.94-2.06 2.06-.94-2.06-.94-.94-2.06-.94 2.06-2.06.94zm-11 1L8.5 8.5l.94-2.06 2.06-.94-2.06-.94L8.5 2.5l-.94 2.06-2.06.94zm10 10l.94 2.06.94-2.06 2.06-.94-2.06-.94-.94-2.06-.94 2.06-2.06.94z\"/><path d=\"M17.41 7.96l-1.37-1.37c-.4-.4-.92-.59-1.43-.59-.52 0-1.04.2-1.43.59L10.3 9.45l-7.72 7.72c-.78.78-.78 2.05 0 2.83L4 21.41c.39.39.9.59 1.41.59.51 0 1.02-.2 1.41-.59l7.78-7.78 2.81-2.81c.8-.78.8-2.07 0-2.86zM5.41 20L4 18.59l7.72-7.72 1.47 1.35L5.41 20z\"/>\n",
              "  </svg>\n",
              "      </button>\n",
              "      \n",
              "  <style>\n",
              "    .colab-df-container {\n",
              "      display:flex;\n",
              "      flex-wrap:wrap;\n",
              "      gap: 12px;\n",
              "    }\n",
              "\n",
              "    .colab-df-convert {\n",
              "      background-color: #E8F0FE;\n",
              "      border: none;\n",
              "      border-radius: 50%;\n",
              "      cursor: pointer;\n",
              "      display: none;\n",
              "      fill: #1967D2;\n",
              "      height: 32px;\n",
              "      padding: 0 0 0 0;\n",
              "      width: 32px;\n",
              "    }\n",
              "\n",
              "    .colab-df-convert:hover {\n",
              "      background-color: #E2EBFA;\n",
              "      box-shadow: 0px 1px 2px rgba(60, 64, 67, 0.3), 0px 1px 3px 1px rgba(60, 64, 67, 0.15);\n",
              "      fill: #174EA6;\n",
              "    }\n",
              "\n",
              "    [theme=dark] .colab-df-convert {\n",
              "      background-color: #3B4455;\n",
              "      fill: #D2E3FC;\n",
              "    }\n",
              "\n",
              "    [theme=dark] .colab-df-convert:hover {\n",
              "      background-color: #434B5C;\n",
              "      box-shadow: 0px 1px 3px 1px rgba(0, 0, 0, 0.15);\n",
              "      filter: drop-shadow(0px 1px 2px rgba(0, 0, 0, 0.3));\n",
              "      fill: #FFFFFF;\n",
              "    }\n",
              "  </style>\n",
              "\n",
              "      <script>\n",
              "        const buttonEl =\n",
              "          document.querySelector('#df-ad642a39-73af-4092-b9d8-d585cf99bbe2 button.colab-df-convert');\n",
              "        buttonEl.style.display =\n",
              "          google.colab.kernel.accessAllowed ? 'block' : 'none';\n",
              "\n",
              "        async function convertToInteractive(key) {\n",
              "          const element = document.querySelector('#df-ad642a39-73af-4092-b9d8-d585cf99bbe2');\n",
              "          const dataTable =\n",
              "            await google.colab.kernel.invokeFunction('convertToInteractive',\n",
              "                                                     [key], {});\n",
              "          if (!dataTable) return;\n",
              "\n",
              "          const docLinkHtml = 'Like what you see? Visit the ' +\n",
              "            '<a target=\"_blank\" href=https://colab.research.google.com/notebooks/data_table.ipynb>data table notebook</a>'\n",
              "            + ' to learn more about interactive tables.';\n",
              "          element.innerHTML = '';\n",
              "          dataTable['output_type'] = 'display_data';\n",
              "          await google.colab.output.renderOutput(dataTable, element);\n",
              "          const docLink = document.createElement('div');\n",
              "          docLink.innerHTML = docLinkHtml;\n",
              "          element.appendChild(docLink);\n",
              "        }\n",
              "      </script>\n",
              "    </div>\n",
              "  </div>\n",
              "  "
            ]
          },
          "metadata": {},
          "execution_count": 399
        }
      ]
    },
    {
      "cell_type": "code",
      "source": [
        "X_train, X_test, y_train, y_test = train_test_split(X, y, \n",
        "                                                      train_size=0.75,\n",
        "                                                      test_size=0.25)"
      ],
      "metadata": {
        "id": "b9R9eqswCLnU"
      },
      "execution_count": null,
      "outputs": []
    },
    {
      "cell_type": "code",
      "source": [
        "CATEGORICAL_COLUMNS = ['sex', 'smoker', 'region']\n",
        "NUMERIC_COLUMNS = ['age', 'bmi','children']\n",
        "\n",
        "feature_columns = []\n",
        "for feature_name in CATEGORICAL_COLUMNS:\n",
        "  vocabulary = X_train[feature_name].unique()  # gets a list of all unique values from given feature column\n",
        "  feature_columns.append(tf.feature_column.categorical_column_with_vocabulary_list(feature_name, vocabulary))\n",
        "\n",
        "for feature_name in NUMERIC_COLUMNS:\n",
        "  feature_columns.append(tf.feature_column.numeric_column(feature_name, dtype=tf.float32))\n",
        "\n",
        "print(feature_columns)"
      ],
      "metadata": {
        "colab": {
          "base_uri": "https://localhost:8080/"
        },
        "id": "2Ul0JTJK9j_B",
        "outputId": "bf87181a-cced-46ef-b232-4cd22e40a885"
      },
      "execution_count": null,
      "outputs": [
        {
          "output_type": "stream",
          "name": "stdout",
          "text": [
            "[VocabularyListCategoricalColumn(key='sex', vocabulary_list=('male', 'female'), dtype=tf.string, default_value=-1, num_oov_buckets=0), VocabularyListCategoricalColumn(key='smoker', vocabulary_list=('no', 'yes'), dtype=tf.string, default_value=-1, num_oov_buckets=0), VocabularyListCategoricalColumn(key='region', vocabulary_list=('northwest', 'southwest', 'southeast', 'northeast'), dtype=tf.string, default_value=-1, num_oov_buckets=0), NumericColumn(key='age', shape=(1,), default_value=None, dtype=tf.float32, normalizer_fn=None), NumericColumn(key='bmi', shape=(1,), default_value=None, dtype=tf.float32, normalizer_fn=None), NumericColumn(key='children', shape=(1,), default_value=None, dtype=tf.float32, normalizer_fn=None)]\n"
          ]
        }
      ]
    },
    {
      "cell_type": "code",
      "source": [
        "def make_input_function(data, label_data, num_epochs=10, shuffle=True, batch_size=32):\n",
        "    def input_function(): #innner function, this will be returned\n",
        "        ds = tf.data.Dataset.from_tensor_slices((dict(data), label_data)) #create tf.data.Dataset object with data and its label\n",
        "    \n",
        "        if shuffle:\n",
        "            ds = ds.shuffle(1000) #randomize order of data\n",
        "        ds = ds.batch(batch_size).repeat(num_epochs) # split dataset into batches of 32 and repeat process for num_epochs times\n",
        "        return ds  # return a batch of the dataset\n",
        "    return input_function # return a function object\n",
        "\n",
        "train_data = make_input_function(X_train, y_train)\n",
        "eval_data = make_input_function(X_test, y_test, num_epochs=1, shuffle=False)"
      ],
      "metadata": {
        "id": "5w0-nGXV-JcG"
      },
      "execution_count": null,
      "outputs": []
    },
    {
      "cell_type": "markdown",
      "source": [
        "## Model implementation"
      ],
      "metadata": {
        "id": "FglGDfCVCbmv"
      }
    },
    {
      "cell_type": "code",
      "source": [
        "lr = tf.estimator.LinearRegressor(feature_columns=feature_columns)\n",
        "# We create a linear estimtor by passing the feature columns we created earlier"
      ],
      "metadata": {
        "colab": {
          "base_uri": "https://localhost:8080/"
        },
        "id": "FgbILvvvCV_T",
        "outputId": "debb0c04-64f9-4d4c-db8d-442d65fb266b"
      },
      "execution_count": null,
      "outputs": [
        {
          "output_type": "stream",
          "name": "stdout",
          "text": [
            "INFO:tensorflow:Using default config.\n"
          ]
        },
        {
          "output_type": "stream",
          "name": "stderr",
          "text": [
            "INFO:tensorflow:Using default config.\n"
          ]
        },
        {
          "output_type": "stream",
          "name": "stdout",
          "text": [
            "WARNING:tensorflow:Using temporary folder as model directory: /tmp/tmppuq8507r\n"
          ]
        },
        {
          "output_type": "stream",
          "name": "stderr",
          "text": [
            "WARNING:tensorflow:Using temporary folder as model directory: /tmp/tmppuq8507r\n"
          ]
        },
        {
          "output_type": "stream",
          "name": "stdout",
          "text": [
            "INFO:tensorflow:Using config: {'_model_dir': '/tmp/tmppuq8507r', '_tf_random_seed': None, '_save_summary_steps': 100, '_save_checkpoints_steps': None, '_save_checkpoints_secs': 600, '_session_config': allow_soft_placement: true\n",
            "graph_options {\n",
            "  rewrite_options {\n",
            "    meta_optimizer_iterations: ONE\n",
            "  }\n",
            "}\n",
            ", '_keep_checkpoint_max': 5, '_keep_checkpoint_every_n_hours': 10000, '_log_step_count_steps': 100, '_train_distribute': None, '_device_fn': None, '_protocol': None, '_eval_distribute': None, '_experimental_distribute': None, '_experimental_max_worker_delay_secs': None, '_session_creation_timeout_secs': 7200, '_checkpoint_save_graph_def': True, '_service': None, '_cluster_spec': ClusterSpec({}), '_task_type': 'worker', '_task_id': 0, '_global_id_in_cluster': 0, '_master': '', '_evaluation_master': '', '_is_chief': True, '_num_ps_replicas': 0, '_num_worker_replicas': 1}\n"
          ]
        },
        {
          "output_type": "stream",
          "name": "stderr",
          "text": [
            "INFO:tensorflow:Using config: {'_model_dir': '/tmp/tmppuq8507r', '_tf_random_seed': None, '_save_summary_steps': 100, '_save_checkpoints_steps': None, '_save_checkpoints_secs': 600, '_session_config': allow_soft_placement: true\n",
            "graph_options {\n",
            "  rewrite_options {\n",
            "    meta_optimizer_iterations: ONE\n",
            "  }\n",
            "}\n",
            ", '_keep_checkpoint_max': 5, '_keep_checkpoint_every_n_hours': 10000, '_log_step_count_steps': 100, '_train_distribute': None, '_device_fn': None, '_protocol': None, '_eval_distribute': None, '_experimental_distribute': None, '_experimental_max_worker_delay_secs': None, '_session_creation_timeout_secs': 7200, '_checkpoint_save_graph_def': True, '_service': None, '_cluster_spec': ClusterSpec({}), '_task_type': 'worker', '_task_id': 0, '_global_id_in_cluster': 0, '_master': '', '_evaluation_master': '', '_is_chief': True, '_num_ps_replicas': 0, '_num_worker_replicas': 1}\n"
          ]
        }
      ]
    },
    {
      "cell_type": "code",
      "source": [
        "lr.train(train_data)  # train"
      ],
      "metadata": {
        "colab": {
          "base_uri": "https://localhost:8080/"
        },
        "id": "vADc9jCrCpO5",
        "outputId": "5f3e89fe-8a00-4904-dbf9-f1623d5bd3b9"
      },
      "execution_count": null,
      "outputs": [
        {
          "output_type": "stream",
          "name": "stdout",
          "text": [
            "INFO:tensorflow:Calling model_fn.\n"
          ]
        },
        {
          "output_type": "stream",
          "name": "stderr",
          "text": [
            "INFO:tensorflow:Calling model_fn.\n"
          ]
        },
        {
          "output_type": "stream",
          "name": "stdout",
          "text": [
            "WARNING:tensorflow:From /usr/local/lib/python3.7/dist-packages/keras/optimizer_v2/ftrl.py:149: calling Constant.__init__ (from tensorflow.python.ops.init_ops) with dtype is deprecated and will be removed in a future version.\n",
            "Instructions for updating:\n",
            "Call initializer instance with the dtype argument instead of passing it to the constructor\n"
          ]
        },
        {
          "output_type": "stream",
          "name": "stderr",
          "text": [
            "WARNING:tensorflow:From /usr/local/lib/python3.7/dist-packages/keras/optimizer_v2/ftrl.py:149: calling Constant.__init__ (from tensorflow.python.ops.init_ops) with dtype is deprecated and will be removed in a future version.\n",
            "Instructions for updating:\n",
            "Call initializer instance with the dtype argument instead of passing it to the constructor\n"
          ]
        },
        {
          "output_type": "stream",
          "name": "stdout",
          "text": [
            "INFO:tensorflow:Done calling model_fn.\n"
          ]
        },
        {
          "output_type": "stream",
          "name": "stderr",
          "text": [
            "INFO:tensorflow:Done calling model_fn.\n"
          ]
        },
        {
          "output_type": "stream",
          "name": "stdout",
          "text": [
            "INFO:tensorflow:Create CheckpointSaverHook.\n"
          ]
        },
        {
          "output_type": "stream",
          "name": "stderr",
          "text": [
            "INFO:tensorflow:Create CheckpointSaverHook.\n"
          ]
        },
        {
          "output_type": "stream",
          "name": "stdout",
          "text": [
            "INFO:tensorflow:Graph was finalized.\n"
          ]
        },
        {
          "output_type": "stream",
          "name": "stderr",
          "text": [
            "INFO:tensorflow:Graph was finalized.\n"
          ]
        },
        {
          "output_type": "stream",
          "name": "stdout",
          "text": [
            "INFO:tensorflow:Running local_init_op.\n"
          ]
        },
        {
          "output_type": "stream",
          "name": "stderr",
          "text": [
            "INFO:tensorflow:Running local_init_op.\n"
          ]
        },
        {
          "output_type": "stream",
          "name": "stdout",
          "text": [
            "INFO:tensorflow:Done running local_init_op.\n"
          ]
        },
        {
          "output_type": "stream",
          "name": "stderr",
          "text": [
            "INFO:tensorflow:Done running local_init_op.\n"
          ]
        },
        {
          "output_type": "stream",
          "name": "stdout",
          "text": [
            "INFO:tensorflow:Calling checkpoint listeners before saving checkpoint 0...\n"
          ]
        },
        {
          "output_type": "stream",
          "name": "stderr",
          "text": [
            "INFO:tensorflow:Calling checkpoint listeners before saving checkpoint 0...\n"
          ]
        },
        {
          "output_type": "stream",
          "name": "stdout",
          "text": [
            "INFO:tensorflow:Saving checkpoints for 0 into /tmp/tmppuq8507r/model.ckpt.\n"
          ]
        },
        {
          "output_type": "stream",
          "name": "stderr",
          "text": [
            "INFO:tensorflow:Saving checkpoints for 0 into /tmp/tmppuq8507r/model.ckpt.\n"
          ]
        },
        {
          "output_type": "stream",
          "name": "stdout",
          "text": [
            "INFO:tensorflow:Calling checkpoint listeners after saving checkpoint 0...\n"
          ]
        },
        {
          "output_type": "stream",
          "name": "stderr",
          "text": [
            "INFO:tensorflow:Calling checkpoint listeners after saving checkpoint 0...\n"
          ]
        },
        {
          "output_type": "stream",
          "name": "stdout",
          "text": [
            "INFO:tensorflow:loss = 82.28421, step = 0\n"
          ]
        },
        {
          "output_type": "stream",
          "name": "stderr",
          "text": [
            "INFO:tensorflow:loss = 82.28421, step = 0\n"
          ]
        },
        {
          "output_type": "stream",
          "name": "stdout",
          "text": [
            "INFO:tensorflow:global_step/sec: 420.872\n"
          ]
        },
        {
          "output_type": "stream",
          "name": "stderr",
          "text": [
            "INFO:tensorflow:global_step/sec: 420.872\n"
          ]
        },
        {
          "output_type": "stream",
          "name": "stdout",
          "text": [
            "INFO:tensorflow:loss = 1.1247168, step = 100 (0.249 sec)\n"
          ]
        },
        {
          "output_type": "stream",
          "name": "stderr",
          "text": [
            "INFO:tensorflow:loss = 1.1247168, step = 100 (0.249 sec)\n"
          ]
        },
        {
          "output_type": "stream",
          "name": "stdout",
          "text": [
            "INFO:tensorflow:global_step/sec: 672.685\n"
          ]
        },
        {
          "output_type": "stream",
          "name": "stderr",
          "text": [
            "INFO:tensorflow:global_step/sec: 672.685\n"
          ]
        },
        {
          "output_type": "stream",
          "name": "stdout",
          "text": [
            "INFO:tensorflow:loss = 1.032662, step = 200 (0.145 sec)\n"
          ]
        },
        {
          "output_type": "stream",
          "name": "stderr",
          "text": [
            "INFO:tensorflow:loss = 1.032662, step = 200 (0.145 sec)\n"
          ]
        },
        {
          "output_type": "stream",
          "name": "stdout",
          "text": [
            "INFO:tensorflow:global_step/sec: 698.002\n"
          ]
        },
        {
          "output_type": "stream",
          "name": "stderr",
          "text": [
            "INFO:tensorflow:global_step/sec: 698.002\n"
          ]
        },
        {
          "output_type": "stream",
          "name": "stdout",
          "text": [
            "INFO:tensorflow:loss = 0.8027415, step = 300 (0.144 sec)\n"
          ]
        },
        {
          "output_type": "stream",
          "name": "stderr",
          "text": [
            "INFO:tensorflow:loss = 0.8027415, step = 300 (0.144 sec)\n"
          ]
        },
        {
          "output_type": "stream",
          "name": "stdout",
          "text": [
            "INFO:tensorflow:Calling checkpoint listeners before saving checkpoint 320...\n"
          ]
        },
        {
          "output_type": "stream",
          "name": "stderr",
          "text": [
            "INFO:tensorflow:Calling checkpoint listeners before saving checkpoint 320...\n"
          ]
        },
        {
          "output_type": "stream",
          "name": "stdout",
          "text": [
            "INFO:tensorflow:Saving checkpoints for 320 into /tmp/tmppuq8507r/model.ckpt.\n"
          ]
        },
        {
          "output_type": "stream",
          "name": "stderr",
          "text": [
            "INFO:tensorflow:Saving checkpoints for 320 into /tmp/tmppuq8507r/model.ckpt.\n"
          ]
        },
        {
          "output_type": "stream",
          "name": "stdout",
          "text": [
            "INFO:tensorflow:Calling checkpoint listeners after saving checkpoint 320...\n"
          ]
        },
        {
          "output_type": "stream",
          "name": "stderr",
          "text": [
            "INFO:tensorflow:Calling checkpoint listeners after saving checkpoint 320...\n"
          ]
        },
        {
          "output_type": "stream",
          "name": "stdout",
          "text": [
            "INFO:tensorflow:Loss for final step: 0.5969675.\n"
          ]
        },
        {
          "output_type": "stream",
          "name": "stderr",
          "text": [
            "INFO:tensorflow:Loss for final step: 0.5969675.\n"
          ]
        },
        {
          "output_type": "execute_result",
          "data": {
            "text/plain": [
              "<tensorflow_estimator.python.estimator.canned.linear.LinearRegressorV2 at 0x7f6e96578ad0>"
            ]
          },
          "metadata": {},
          "execution_count": 418
        }
      ]
    },
    {
      "cell_type": "code",
      "source": [
        "result = lr.evaluate(eval_data)\n",
        "\n",
        "clear_output()\n",
        "\n",
        "print(result)"
      ],
      "metadata": {
        "colab": {
          "base_uri": "https://localhost:8080/"
        },
        "id": "6OYh425iCtSo",
        "outputId": "f258b584-f58a-41ed-aebf-2dd387882df9"
      },
      "execution_count": null,
      "outputs": [
        {
          "output_type": "stream",
          "name": "stdout",
          "text": [
            "{'average_loss': 0.67698026, 'label/mean': 9.058056, 'loss': 0.665693, 'prediction/mean': 8.743569, 'global_step': 320}\n"
          ]
        }
      ]
    },
    {
      "cell_type": "code",
      "source": [
        "pred_dicts = list(lr.predict(eval_data))\n"
      ],
      "metadata": {
        "colab": {
          "base_uri": "https://localhost:8080/"
        },
        "id": "2IIuOjxSGJ0C",
        "outputId": "de0a013f-a0e5-4804-b9c3-c6d6f519d39c"
      },
      "execution_count": null,
      "outputs": [
        {
          "output_type": "stream",
          "name": "stdout",
          "text": [
            "INFO:tensorflow:Calling model_fn.\n"
          ]
        },
        {
          "output_type": "stream",
          "name": "stderr",
          "text": [
            "INFO:tensorflow:Calling model_fn.\n"
          ]
        },
        {
          "output_type": "stream",
          "name": "stdout",
          "text": [
            "INFO:tensorflow:Done calling model_fn.\n"
          ]
        },
        {
          "output_type": "stream",
          "name": "stderr",
          "text": [
            "INFO:tensorflow:Done calling model_fn.\n"
          ]
        },
        {
          "output_type": "stream",
          "name": "stdout",
          "text": [
            "INFO:tensorflow:Graph was finalized.\n"
          ]
        },
        {
          "output_type": "stream",
          "name": "stderr",
          "text": [
            "INFO:tensorflow:Graph was finalized.\n"
          ]
        },
        {
          "output_type": "stream",
          "name": "stdout",
          "text": [
            "INFO:tensorflow:Restoring parameters from /tmp/tmppuq8507r/model.ckpt-320\n"
          ]
        },
        {
          "output_type": "stream",
          "name": "stderr",
          "text": [
            "INFO:tensorflow:Restoring parameters from /tmp/tmppuq8507r/model.ckpt-320\n"
          ]
        },
        {
          "output_type": "stream",
          "name": "stdout",
          "text": [
            "INFO:tensorflow:Running local_init_op.\n"
          ]
        },
        {
          "output_type": "stream",
          "name": "stderr",
          "text": [
            "INFO:tensorflow:Running local_init_op.\n"
          ]
        },
        {
          "output_type": "stream",
          "name": "stdout",
          "text": [
            "INFO:tensorflow:Done running local_init_op.\n"
          ]
        },
        {
          "output_type": "stream",
          "name": "stderr",
          "text": [
            "INFO:tensorflow:Done running local_init_op.\n"
          ]
        }
      ]
    },
    {
      "cell_type": "code",
      "source": [
        "pred_dicts"
      ],
      "metadata": {
        "colab": {
          "base_uri": "https://localhost:8080/"
        },
        "id": "HZZVEduQGJwo",
        "outputId": "392a18f7-c06a-4618-8606-8236db04b332"
      },
      "execution_count": null,
      "outputs": [
        {
          "output_type": "execute_result",
          "data": {
            "text/plain": [
              "[{'predictions': array([8.774366], dtype=float32)},\n",
              " {'predictions': array([6.4134946], dtype=float32)},\n",
              " {'predictions': array([9.279296], dtype=float32)},\n",
              " {'predictions': array([8.372091], dtype=float32)},\n",
              " {'predictions': array([8.848103], dtype=float32)},\n",
              " {'predictions': array([9.406155], dtype=float32)},\n",
              " {'predictions': array([9.014349], dtype=float32)},\n",
              " {'predictions': array([10.432897], dtype=float32)},\n",
              " {'predictions': array([10.052407], dtype=float32)},\n",
              " {'predictions': array([7.19823], dtype=float32)},\n",
              " {'predictions': array([9.261374], dtype=float32)},\n",
              " {'predictions': array([7.5536656], dtype=float32)},\n",
              " {'predictions': array([8.317301], dtype=float32)},\n",
              " {'predictions': array([9.435149], dtype=float32)},\n",
              " {'predictions': array([6.61167], dtype=float32)},\n",
              " {'predictions': array([9.92615], dtype=float32)},\n",
              " {'predictions': array([7.828489], dtype=float32)},\n",
              " {'predictions': array([9.514277], dtype=float32)},\n",
              " {'predictions': array([8.285263], dtype=float32)},\n",
              " {'predictions': array([9.02145], dtype=float32)},\n",
              " {'predictions': array([7.1967015], dtype=float32)},\n",
              " {'predictions': array([8.896531], dtype=float32)},\n",
              " {'predictions': array([9.294531], dtype=float32)},\n",
              " {'predictions': array([10.192042], dtype=float32)},\n",
              " {'predictions': array([8.546584], dtype=float32)},\n",
              " {'predictions': array([8.915544], dtype=float32)},\n",
              " {'predictions': array([7.443328], dtype=float32)},\n",
              " {'predictions': array([7.5963945], dtype=float32)},\n",
              " {'predictions': array([8.113611], dtype=float32)},\n",
              " {'predictions': array([9.417595], dtype=float32)},\n",
              " {'predictions': array([9.946365], dtype=float32)},\n",
              " {'predictions': array([9.623257], dtype=float32)},\n",
              " {'predictions': array([8.434746], dtype=float32)},\n",
              " {'predictions': array([10.687943], dtype=float32)},\n",
              " {'predictions': array([9.926219], dtype=float32)},\n",
              " {'predictions': array([9.692843], dtype=float32)},\n",
              " {'predictions': array([9.983676], dtype=float32)},\n",
              " {'predictions': array([9.095354], dtype=float32)},\n",
              " {'predictions': array([7.1963735], dtype=float32)},\n",
              " {'predictions': array([7.940066], dtype=float32)},\n",
              " {'predictions': array([9.073326], dtype=float32)},\n",
              " {'predictions': array([9.839097], dtype=float32)},\n",
              " {'predictions': array([7.4673853], dtype=float32)},\n",
              " {'predictions': array([9.259624], dtype=float32)},\n",
              " {'predictions': array([9.922969], dtype=float32)},\n",
              " {'predictions': array([8.774173], dtype=float32)},\n",
              " {'predictions': array([7.754068], dtype=float32)},\n",
              " {'predictions': array([6.9837794], dtype=float32)},\n",
              " {'predictions': array([9.367797], dtype=float32)},\n",
              " {'predictions': array([7.6109705], dtype=float32)},\n",
              " {'predictions': array([7.0630546], dtype=float32)},\n",
              " {'predictions': array([9.232392], dtype=float32)},\n",
              " {'predictions': array([8.274768], dtype=float32)},\n",
              " {'predictions': array([10.7201805], dtype=float32)},\n",
              " {'predictions': array([9.9833975], dtype=float32)},\n",
              " {'predictions': array([6.9973874], dtype=float32)},\n",
              " {'predictions': array([7.205654], dtype=float32)},\n",
              " {'predictions': array([10.187081], dtype=float32)},\n",
              " {'predictions': array([9.440506], dtype=float32)},\n",
              " {'predictions': array([7.072484], dtype=float32)},\n",
              " {'predictions': array([7.5868034], dtype=float32)},\n",
              " {'predictions': array([7.4909368], dtype=float32)},\n",
              " {'predictions': array([10.830361], dtype=float32)},\n",
              " {'predictions': array([7.1380277], dtype=float32)},\n",
              " {'predictions': array([10.3779125], dtype=float32)},\n",
              " {'predictions': array([7.518132], dtype=float32)},\n",
              " {'predictions': array([7.026222], dtype=float32)},\n",
              " {'predictions': array([6.659967], dtype=float32)},\n",
              " {'predictions': array([7.253928], dtype=float32)},\n",
              " {'predictions': array([8.512791], dtype=float32)},\n",
              " {'predictions': array([9.388356], dtype=float32)},\n",
              " {'predictions': array([7.385373], dtype=float32)},\n",
              " {'predictions': array([8.802945], dtype=float32)},\n",
              " {'predictions': array([8.477208], dtype=float32)},\n",
              " {'predictions': array([7.5320077], dtype=float32)},\n",
              " {'predictions': array([10.925814], dtype=float32)},\n",
              " {'predictions': array([7.654344], dtype=float32)},\n",
              " {'predictions': array([8.907724], dtype=float32)},\n",
              " {'predictions': array([7.612724], dtype=float32)},\n",
              " {'predictions': array([8.311112], dtype=float32)},\n",
              " {'predictions': array([11.844369], dtype=float32)},\n",
              " {'predictions': array([9.860348], dtype=float32)},\n",
              " {'predictions': array([8.433135], dtype=float32)},\n",
              " {'predictions': array([9.238031], dtype=float32)},\n",
              " {'predictions': array([10.316403], dtype=float32)},\n",
              " {'predictions': array([8.830383], dtype=float32)},\n",
              " {'predictions': array([7.5026097], dtype=float32)},\n",
              " {'predictions': array([7.1083193], dtype=float32)},\n",
              " {'predictions': array([9.764276], dtype=float32)},\n",
              " {'predictions': array([8.208434], dtype=float32)},\n",
              " {'predictions': array([8.309198], dtype=float32)},\n",
              " {'predictions': array([11.685393], dtype=float32)},\n",
              " {'predictions': array([9.612069], dtype=float32)},\n",
              " {'predictions': array([9.182611], dtype=float32)},\n",
              " {'predictions': array([9.85042], dtype=float32)},\n",
              " {'predictions': array([8.451399], dtype=float32)},\n",
              " {'predictions': array([7.5568995], dtype=float32)},\n",
              " {'predictions': array([8.833209], dtype=float32)},\n",
              " {'predictions': array([7.979898], dtype=float32)},\n",
              " {'predictions': array([7.856076], dtype=float32)},\n",
              " {'predictions': array([7.8692436], dtype=float32)},\n",
              " {'predictions': array([9.1065445], dtype=float32)},\n",
              " {'predictions': array([9.503404], dtype=float32)},\n",
              " {'predictions': array([7.6344643], dtype=float32)},\n",
              " {'predictions': array([9.506941], dtype=float32)},\n",
              " {'predictions': array([10.862076], dtype=float32)},\n",
              " {'predictions': array([9.856313], dtype=float32)},\n",
              " {'predictions': array([9.405167], dtype=float32)},\n",
              " {'predictions': array([10.602946], dtype=float32)},\n",
              " {'predictions': array([10.162665], dtype=float32)},\n",
              " {'predictions': array([8.722468], dtype=float32)},\n",
              " {'predictions': array([8.237329], dtype=float32)},\n",
              " {'predictions': array([9.359926], dtype=float32)},\n",
              " {'predictions': array([9.758167], dtype=float32)},\n",
              " {'predictions': array([9.435085], dtype=float32)},\n",
              " {'predictions': array([8.664994], dtype=float32)},\n",
              " {'predictions': array([6.550329], dtype=float32)},\n",
              " {'predictions': array([7.879742], dtype=float32)},\n",
              " {'predictions': array([8.220999], dtype=float32)},\n",
              " {'predictions': array([9.433407], dtype=float32)},\n",
              " {'predictions': array([7.102308], dtype=float32)},\n",
              " {'predictions': array([6.776733], dtype=float32)},\n",
              " {'predictions': array([7.4461], dtype=float32)},\n",
              " {'predictions': array([10.009353], dtype=float32)},\n",
              " {'predictions': array([7.537113], dtype=float32)},\n",
              " {'predictions': array([9.427615], dtype=float32)},\n",
              " {'predictions': array([7.1593027], dtype=float32)},\n",
              " {'predictions': array([10.10398], dtype=float32)},\n",
              " {'predictions': array([7.98174], dtype=float32)},\n",
              " {'predictions': array([7.3295913], dtype=float32)},\n",
              " {'predictions': array([7.9323177], dtype=float32)},\n",
              " {'predictions': array([8.335912], dtype=float32)},\n",
              " {'predictions': array([6.0510116], dtype=float32)},\n",
              " {'predictions': array([7.398822], dtype=float32)},\n",
              " {'predictions': array([8.542569], dtype=float32)},\n",
              " {'predictions': array([8.707342], dtype=float32)},\n",
              " {'predictions': array([7.7997756], dtype=float32)},\n",
              " {'predictions': array([7.550478], dtype=float32)},\n",
              " {'predictions': array([8.653747], dtype=float32)},\n",
              " {'predictions': array([8.020547], dtype=float32)},\n",
              " {'predictions': array([8.00408], dtype=float32)},\n",
              " {'predictions': array([6.635691], dtype=float32)},\n",
              " {'predictions': array([10.306439], dtype=float32)},\n",
              " {'predictions': array([5.9890485], dtype=float32)},\n",
              " {'predictions': array([7.566808], dtype=float32)},\n",
              " {'predictions': array([8.841418], dtype=float32)},\n",
              " {'predictions': array([8.42126], dtype=float32)},\n",
              " {'predictions': array([8.576406], dtype=float32)},\n",
              " {'predictions': array([7.877077], dtype=float32)},\n",
              " {'predictions': array([9.471489], dtype=float32)},\n",
              " {'predictions': array([9.853208], dtype=float32)},\n",
              " {'predictions': array([9.7509775], dtype=float32)},\n",
              " {'predictions': array([8.705079], dtype=float32)},\n",
              " {'predictions': array([8.854675], dtype=float32)},\n",
              " {'predictions': array([11.448697], dtype=float32)},\n",
              " {'predictions': array([9.19002], dtype=float32)},\n",
              " {'predictions': array([9.271971], dtype=float32)},\n",
              " {'predictions': array([8.237122], dtype=float32)},\n",
              " {'predictions': array([8.312689], dtype=float32)},\n",
              " {'predictions': array([10.170322], dtype=float32)},\n",
              " {'predictions': array([8.154242], dtype=float32)},\n",
              " {'predictions': array([8.052547], dtype=float32)},\n",
              " {'predictions': array([10.205546], dtype=float32)},\n",
              " {'predictions': array([9.826287], dtype=float32)},\n",
              " {'predictions': array([8.123001], dtype=float32)},\n",
              " {'predictions': array([8.509959], dtype=float32)},\n",
              " {'predictions': array([9.171556], dtype=float32)},\n",
              " {'predictions': array([7.688136], dtype=float32)},\n",
              " {'predictions': array([10.169697], dtype=float32)},\n",
              " {'predictions': array([8.594521], dtype=float32)},\n",
              " {'predictions': array([7.409924], dtype=float32)},\n",
              " {'predictions': array([7.8545756], dtype=float32)},\n",
              " {'predictions': array([8.606334], dtype=float32)},\n",
              " {'predictions': array([11.059861], dtype=float32)},\n",
              " {'predictions': array([8.533859], dtype=float32)},\n",
              " {'predictions': array([6.927971], dtype=float32)},\n",
              " {'predictions': array([7.2718873], dtype=float32)},\n",
              " {'predictions': array([10.464953], dtype=float32)},\n",
              " {'predictions': array([9.545762], dtype=float32)},\n",
              " {'predictions': array([7.994552], dtype=float32)},\n",
              " {'predictions': array([7.8751864], dtype=float32)},\n",
              " {'predictions': array([9.242203], dtype=float32)},\n",
              " {'predictions': array([7.717631], dtype=float32)},\n",
              " {'predictions': array([10.00002], dtype=float32)},\n",
              " {'predictions': array([8.503099], dtype=float32)},\n",
              " {'predictions': array([8.3537445], dtype=float32)},\n",
              " {'predictions': array([8.9241905], dtype=float32)},\n",
              " {'predictions': array([8.072553], dtype=float32)},\n",
              " {'predictions': array([6.0919404], dtype=float32)},\n",
              " {'predictions': array([10.638261], dtype=float32)},\n",
              " {'predictions': array([8.733884], dtype=float32)},\n",
              " {'predictions': array([7.1419716], dtype=float32)},\n",
              " {'predictions': array([8.03602], dtype=float32)},\n",
              " {'predictions': array([8.32812], dtype=float32)},\n",
              " {'predictions': array([8.460412], dtype=float32)},\n",
              " {'predictions': array([9.856898], dtype=float32)},\n",
              " {'predictions': array([7.79304], dtype=float32)},\n",
              " {'predictions': array([9.328168], dtype=float32)},\n",
              " {'predictions': array([8.633035], dtype=float32)},\n",
              " {'predictions': array([6.7922792], dtype=float32)},\n",
              " {'predictions': array([9.234947], dtype=float32)},\n",
              " {'predictions': array([9.869739], dtype=float32)},\n",
              " {'predictions': array([9.416598], dtype=float32)},\n",
              " {'predictions': array([8.42867], dtype=float32)},\n",
              " {'predictions': array([7.695642], dtype=float32)},\n",
              " {'predictions': array([9.861711], dtype=float32)},\n",
              " {'predictions': array([7.944395], dtype=float32)},\n",
              " {'predictions': array([8.343745], dtype=float32)},\n",
              " {'predictions': array([8.294205], dtype=float32)},\n",
              " {'predictions': array([11.452828], dtype=float32)},\n",
              " {'predictions': array([10.525797], dtype=float32)},\n",
              " {'predictions': array([8.80912], dtype=float32)},\n",
              " {'predictions': array([7.9583907], dtype=float32)},\n",
              " {'predictions': array([8.518194], dtype=float32)},\n",
              " {'predictions': array([10.512481], dtype=float32)},\n",
              " {'predictions': array([11.719283], dtype=float32)},\n",
              " {'predictions': array([9.184047], dtype=float32)},\n",
              " {'predictions': array([9.346069], dtype=float32)},\n",
              " {'predictions': array([9.351373], dtype=float32)},\n",
              " {'predictions': array([8.455835], dtype=float32)},\n",
              " {'predictions': array([8.782643], dtype=float32)},\n",
              " {'predictions': array([7.822925], dtype=float32)},\n",
              " {'predictions': array([9.42463], dtype=float32)},\n",
              " {'predictions': array([9.530351], dtype=float32)},\n",
              " {'predictions': array([9.500085], dtype=float32)},\n",
              " {'predictions': array([9.2721615], dtype=float32)},\n",
              " {'predictions': array([8.945011], dtype=float32)},\n",
              " {'predictions': array([9.078451], dtype=float32)},\n",
              " {'predictions': array([7.735745], dtype=float32)},\n",
              " {'predictions': array([8.768569], dtype=float32)},\n",
              " {'predictions': array([9.17434], dtype=float32)},\n",
              " {'predictions': array([6.9809685], dtype=float32)},\n",
              " {'predictions': array([9.148592], dtype=float32)},\n",
              " {'predictions': array([7.3960514], dtype=float32)},\n",
              " {'predictions': array([10.6397505], dtype=float32)},\n",
              " {'predictions': array([9.278004], dtype=float32)},\n",
              " {'predictions': array([7.011627], dtype=float32)},\n",
              " {'predictions': array([7.86419], dtype=float32)},\n",
              " {'predictions': array([8.690012], dtype=float32)},\n",
              " {'predictions': array([8.033269], dtype=float32)},\n",
              " {'predictions': array([8.299689], dtype=float32)},\n",
              " {'predictions': array([9.909875], dtype=float32)},\n",
              " {'predictions': array([10.103117], dtype=float32)},\n",
              " {'predictions': array([7.498091], dtype=float32)},\n",
              " {'predictions': array([8.93266], dtype=float32)},\n",
              " {'predictions': array([10.705433], dtype=float32)},\n",
              " {'predictions': array([8.531766], dtype=float32)},\n",
              " {'predictions': array([10.451243], dtype=float32)},\n",
              " {'predictions': array([7.7797627], dtype=float32)},\n",
              " {'predictions': array([7.8830323], dtype=float32)},\n",
              " {'predictions': array([7.5008955], dtype=float32)},\n",
              " {'predictions': array([9.219572], dtype=float32)},\n",
              " {'predictions': array([7.036408], dtype=float32)},\n",
              " {'predictions': array([8.469822], dtype=float32)},\n",
              " {'predictions': array([9.409101], dtype=float32)},\n",
              " {'predictions': array([8.98078], dtype=float32)},\n",
              " {'predictions': array([9.083026], dtype=float32)},\n",
              " {'predictions': array([9.65014], dtype=float32)},\n",
              " {'predictions': array([11.068145], dtype=float32)},\n",
              " {'predictions': array([10.205773], dtype=float32)},\n",
              " {'predictions': array([8.898491], dtype=float32)},\n",
              " {'predictions': array([9.627191], dtype=float32)},\n",
              " {'predictions': array([9.79533], dtype=float32)},\n",
              " {'predictions': array([7.566021], dtype=float32)},\n",
              " {'predictions': array([8.994175], dtype=float32)},\n",
              " {'predictions': array([8.819578], dtype=float32)},\n",
              " {'predictions': array([10.182608], dtype=float32)},\n",
              " {'predictions': array([10.309501], dtype=float32)},\n",
              " {'predictions': array([8.87172], dtype=float32)},\n",
              " {'predictions': array([8.2085495], dtype=float32)},\n",
              " {'predictions': array([7.6026025], dtype=float32)},\n",
              " {'predictions': array([9.400207], dtype=float32)},\n",
              " {'predictions': array([9.868871], dtype=float32)},\n",
              " {'predictions': array([7.13934], dtype=float32)},\n",
              " {'predictions': array([8.758467], dtype=float32)},\n",
              " {'predictions': array([8.077955], dtype=float32)},\n",
              " {'predictions': array([7.923992], dtype=float32)},\n",
              " {'predictions': array([9.054385], dtype=float32)},\n",
              " {'predictions': array([8.1769905], dtype=float32)},\n",
              " {'predictions': array([7.940356], dtype=float32)},\n",
              " {'predictions': array([9.00167], dtype=float32)},\n",
              " {'predictions': array([9.010983], dtype=float32)},\n",
              " {'predictions': array([9.90381], dtype=float32)},\n",
              " {'predictions': array([9.42945], dtype=float32)},\n",
              " {'predictions': array([8.241445], dtype=float32)},\n",
              " {'predictions': array([6.596962], dtype=float32)},\n",
              " {'predictions': array([8.244913], dtype=float32)},\n",
              " {'predictions': array([7.9539185], dtype=float32)},\n",
              " {'predictions': array([8.887913], dtype=float32)},\n",
              " {'predictions': array([8.167129], dtype=float32)},\n",
              " {'predictions': array([7.115576], dtype=float32)},\n",
              " {'predictions': array([7.7256255], dtype=float32)},\n",
              " {'predictions': array([8.794014], dtype=float32)},\n",
              " {'predictions': array([8.089946], dtype=float32)},\n",
              " {'predictions': array([7.869075], dtype=float32)},\n",
              " {'predictions': array([8.451335], dtype=float32)},\n",
              " {'predictions': array([9.785213], dtype=float32)},\n",
              " {'predictions': array([8.565729], dtype=float32)},\n",
              " {'predictions': array([8.45323], dtype=float32)},\n",
              " {'predictions': array([8.650319], dtype=float32)},\n",
              " {'predictions': array([8.557649], dtype=float32)},\n",
              " {'predictions': array([8.731056], dtype=float32)},\n",
              " {'predictions': array([9.180522], dtype=float32)},\n",
              " {'predictions': array([9.070596], dtype=float32)},\n",
              " {'predictions': array([9.608506], dtype=float32)},\n",
              " {'predictions': array([10.799922], dtype=float32)},\n",
              " {'predictions': array([7.6893735], dtype=float32)},\n",
              " {'predictions': array([9.925438], dtype=float32)},\n",
              " {'predictions': array([9.188879], dtype=float32)},\n",
              " {'predictions': array([9.893088], dtype=float32)},\n",
              " {'predictions': array([9.071234], dtype=float32)},\n",
              " {'predictions': array([9.97712], dtype=float32)},\n",
              " {'predictions': array([11.907102], dtype=float32)},\n",
              " {'predictions': array([10.561275], dtype=float32)},\n",
              " {'predictions': array([7.2036943], dtype=float32)},\n",
              " {'predictions': array([8.541706], dtype=float32)},\n",
              " {'predictions': array([9.417485], dtype=float32)},\n",
              " {'predictions': array([7.1679897], dtype=float32)},\n",
              " {'predictions': array([7.996863], dtype=float32)},\n",
              " {'predictions': array([8.805785], dtype=float32)},\n",
              " {'predictions': array([7.92927], dtype=float32)},\n",
              " {'predictions': array([10.242572], dtype=float32)},\n",
              " {'predictions': array([9.281409], dtype=float32)},\n",
              " {'predictions': array([8.695004], dtype=float32)},\n",
              " {'predictions': array([10.14851], dtype=float32)},\n",
              " {'predictions': array([10.137599], dtype=float32)},\n",
              " {'predictions': array([9.545582], dtype=float32)},\n",
              " {'predictions': array([6.660504], dtype=float32)},\n",
              " {'predictions': array([9.026519], dtype=float32)},\n",
              " {'predictions': array([7.313232], dtype=float32)},\n",
              " {'predictions': array([10.182994], dtype=float32)},\n",
              " {'predictions': array([9.201821], dtype=float32)},\n",
              " {'predictions': array([10.09131], dtype=float32)},\n",
              " {'predictions': array([7.8326354], dtype=float32)},\n",
              " {'predictions': array([8.0952], dtype=float32)}]"
            ]
          },
          "metadata": {},
          "execution_count": 435
        }
      ]
    },
    {
      "cell_type": "code",
      "source": [
        "s = pd.Series(pred_dicts)\n",
        "preds = [pred['predictions'] for pred in s]\n",
        "preds_series = np.array(pd.Series(preds),dtype=np.float32)\n",
        "preds_series"
      ],
      "metadata": {
        "id": "pq9rqUIgHMHI",
        "colab": {
          "base_uri": "https://localhost:8080/"
        },
        "outputId": "d572985a-5a48-498b-84b6-2fd9aa5bcb83"
      },
      "execution_count": 477,
      "outputs": [
        {
          "output_type": "execute_result",
          "data": {
            "text/plain": [
              "array([ 8.774366 ,  6.4134946,  9.279296 ,  8.372091 ,  8.848103 ,\n",
              "        9.406155 ,  9.014349 , 10.432897 , 10.052407 ,  7.19823  ,\n",
              "        9.261374 ,  7.5536656,  8.317301 ,  9.435149 ,  6.61167  ,\n",
              "        9.92615  ,  7.828489 ,  9.514277 ,  8.285263 ,  9.02145  ,\n",
              "        7.1967015,  8.896531 ,  9.294531 , 10.192042 ,  8.546584 ,\n",
              "        8.915544 ,  7.443328 ,  7.5963945,  8.113611 ,  9.417595 ,\n",
              "        9.946365 ,  9.623257 ,  8.434746 , 10.687943 ,  9.926219 ,\n",
              "        9.692843 ,  9.983676 ,  9.095354 ,  7.1963735,  7.940066 ,\n",
              "        9.073326 ,  9.839097 ,  7.4673853,  9.259624 ,  9.922969 ,\n",
              "        8.774173 ,  7.754068 ,  6.9837794,  9.367797 ,  7.6109705,\n",
              "        7.0630546,  9.232392 ,  8.274768 , 10.7201805,  9.9833975,\n",
              "        6.9973874,  7.205654 , 10.187081 ,  9.440506 ,  7.072484 ,\n",
              "        7.5868034,  7.4909368, 10.830361 ,  7.1380277, 10.3779125,\n",
              "        7.518132 ,  7.026222 ,  6.659967 ,  7.253928 ,  8.512791 ,\n",
              "        9.388356 ,  7.385373 ,  8.802945 ,  8.477208 ,  7.5320077,\n",
              "       10.925814 ,  7.654344 ,  8.907724 ,  7.612724 ,  8.311112 ,\n",
              "       11.844369 ,  9.860348 ,  8.433135 ,  9.238031 , 10.316403 ,\n",
              "        8.830383 ,  7.5026097,  7.1083193,  9.764276 ,  8.208434 ,\n",
              "        8.309198 , 11.685393 ,  9.612069 ,  9.182611 ,  9.85042  ,\n",
              "        8.451399 ,  7.5568995,  8.833209 ,  7.979898 ,  7.856076 ,\n",
              "        7.8692436,  9.1065445,  9.503404 ,  7.6344643,  9.506941 ,\n",
              "       10.862076 ,  9.856313 ,  9.405167 , 10.602946 , 10.162665 ,\n",
              "        8.722468 ,  8.237329 ,  9.359926 ,  9.758167 ,  9.435085 ,\n",
              "        8.664994 ,  6.550329 ,  7.879742 ,  8.220999 ,  9.433407 ,\n",
              "        7.102308 ,  6.776733 ,  7.4461   , 10.009353 ,  7.537113 ,\n",
              "        9.427615 ,  7.1593027, 10.10398  ,  7.98174  ,  7.3295913,\n",
              "        7.9323177,  8.335912 ,  6.0510116,  7.398822 ,  8.542569 ,\n",
              "        8.707342 ,  7.7997756,  7.550478 ,  8.653747 ,  8.020547 ,\n",
              "        8.00408  ,  6.635691 , 10.306439 ,  5.9890485,  7.566808 ,\n",
              "        8.841418 ,  8.42126  ,  8.576406 ,  7.877077 ,  9.471489 ,\n",
              "        9.853208 ,  9.7509775,  8.705079 ,  8.854675 , 11.448697 ,\n",
              "        9.19002  ,  9.271971 ,  8.237122 ,  8.312689 , 10.170322 ,\n",
              "        8.154242 ,  8.052547 , 10.205546 ,  9.826287 ,  8.123001 ,\n",
              "        8.509959 ,  9.171556 ,  7.688136 , 10.169697 ,  8.594521 ,\n",
              "        7.409924 ,  7.8545756,  8.606334 , 11.059861 ,  8.533859 ,\n",
              "        6.927971 ,  7.2718873, 10.464953 ,  9.545762 ,  7.994552 ,\n",
              "        7.8751864,  9.242203 ,  7.717631 , 10.00002  ,  8.503099 ,\n",
              "        8.3537445,  8.9241905,  8.072553 ,  6.0919404, 10.638261 ,\n",
              "        8.733884 ,  7.1419716,  8.03602  ,  8.32812  ,  8.460412 ,\n",
              "        9.856898 ,  7.79304  ,  9.328168 ,  8.633035 ,  6.7922792,\n",
              "        9.234947 ,  9.869739 ,  9.416598 ,  8.42867  ,  7.695642 ,\n",
              "        9.861711 ,  7.944395 ,  8.343745 ,  8.294205 , 11.452828 ,\n",
              "       10.525797 ,  8.80912  ,  7.9583907,  8.518194 , 10.512481 ,\n",
              "       11.719283 ,  9.184047 ,  9.346069 ,  9.351373 ,  8.455835 ,\n",
              "        8.782643 ,  7.822925 ,  9.42463  ,  9.530351 ,  9.500085 ,\n",
              "        9.2721615,  8.945011 ,  9.078451 ,  7.735745 ,  8.768569 ,\n",
              "        9.17434  ,  6.9809685,  9.148592 ,  7.3960514, 10.6397505,\n",
              "        9.278004 ,  7.011627 ,  7.86419  ,  8.690012 ,  8.033269 ,\n",
              "        8.299689 ,  9.909875 , 10.103117 ,  7.498091 ,  8.93266  ,\n",
              "       10.705433 ,  8.531766 , 10.451243 ,  7.7797627,  7.8830323,\n",
              "        7.5008955,  9.219572 ,  7.036408 ,  8.469822 ,  9.409101 ,\n",
              "        8.98078  ,  9.083026 ,  9.65014  , 11.068145 , 10.205773 ,\n",
              "        8.898491 ,  9.627191 ,  9.79533  ,  7.566021 ,  8.994175 ,\n",
              "        8.819578 , 10.182608 , 10.309501 ,  8.87172  ,  8.2085495,\n",
              "        7.6026025,  9.400207 ,  9.868871 ,  7.13934  ,  8.758467 ,\n",
              "        8.077955 ,  7.923992 ,  9.054385 ,  8.1769905,  7.940356 ,\n",
              "        9.00167  ,  9.010983 ,  9.90381  ,  9.42945  ,  8.241445 ,\n",
              "        6.596962 ,  8.244913 ,  7.9539185,  8.887913 ,  8.167129 ,\n",
              "        7.115576 ,  7.7256255,  8.794014 ,  8.089946 ,  7.869075 ,\n",
              "        8.451335 ,  9.785213 ,  8.565729 ,  8.45323  ,  8.650319 ,\n",
              "        8.557649 ,  8.731056 ,  9.180522 ,  9.070596 ,  9.608506 ,\n",
              "       10.799922 ,  7.6893735,  9.925438 ,  9.188879 ,  9.893088 ,\n",
              "        9.071234 ,  9.97712  , 11.907102 , 10.561275 ,  7.2036943,\n",
              "        8.541706 ,  9.417485 ,  7.1679897,  7.996863 ,  8.805785 ,\n",
              "        7.92927  , 10.242572 ,  9.281409 ,  8.695004 , 10.14851  ,\n",
              "       10.137599 ,  9.545582 ,  6.660504 ,  9.026519 ,  7.313232 ,\n",
              "       10.182994 ,  9.201821 , 10.09131  ,  7.8326354,  8.0952   ],\n",
              "      dtype=float32)"
            ]
          },
          "metadata": {},
          "execution_count": 477
        }
      ]
    },
    {
      "cell_type": "code",
      "source": [
        "metric = tfa.metrics.r_square.RSquare()\n",
        "metric.update_state(y_test, y_pred)\n",
        "result1 = metric.result()\n",
        "result1.numpy()\n",
        "print(result1)"
      ],
      "metadata": {
        "colab": {
          "base_uri": "https://localhost:8080/"
        },
        "id": "E24GsZsPiY0h",
        "outputId": "203e7d0e-9833-4aa5-e4b6-cda452926149"
      },
      "execution_count": 478,
      "outputs": [
        {
          "output_type": "stream",
          "name": "stdout",
          "text": [
            "tf.Tensor(0.19958323, shape=(), dtype=float32)\n"
          ]
        }
      ]
    },
    {
      "cell_type": "code",
      "source": [
        "plt.scatter(y_pred, y_pred, color='blue')\n",
        "plt.scatter(y_test, y_test, color='red')\n",
        "plt.title('Actual vs Predicted')\n",
        "plt.show()"
      ],
      "metadata": {
        "colab": {
          "base_uri": "https://localhost:8080/",
          "height": 281
        },
        "id": "TUqspAuZIvyl",
        "outputId": "a316626e-11ed-4802-c206-f4f6a86475c7"
      },
      "execution_count": 474,
      "outputs": [
        {
          "output_type": "display_data",
          "data": {
            "text/plain": [
              "<Figure size 432x288 with 1 Axes>"
            ],
            "image/png": "[encoded data removed]"
          },
          "metadata": {
            "needs_background": "light"
          }
        }
      ]
    }
  ]
}